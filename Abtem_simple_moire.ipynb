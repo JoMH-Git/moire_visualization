{
 "cells": [
  {
   "cell_type": "code",
   "execution_count": 1,
   "metadata": {},
   "outputs": [],
   "source": [
    "import numpy as np\n",
    "import pandas as pd\n",
    "import matplotlib.pyplot as plt\n",
    "import math\n",
    "import xarray\n",
    "\n",
    "import abtem\n",
    "import ase\n",
    "import pickle\n",
    "import os\n",
    "from tempfile import TemporaryFile\n",
    "from tqdm.auto import tqdm\n",
    "# from tqdm.auto import tqdm  # notebook compatible\n",
    "import time\n",
    "\n",
    "# from ase.lattice.spacegroup import crystal\n",
    "from ase.spacegroup import crystal\n",
    "from abtem.visualize import show_atoms\n",
    "from ase.io import read\n",
    "from ase.visualize import view\n",
    "from ase import Atoms\n",
    "from abtem.parametrizations import LobatoParametrization\n",
    "\n",
    "from mp_api.client import MPRester"
   ]
  },
  {
   "cell_type": "markdown",
   "metadata": {},
   "source": [
    "## functions "
   ]
  },
  {
   "cell_type": "code",
   "execution_count": 2,
   "metadata": {},
   "outputs": [],
   "source": [
    "def structure_from_MP(material_id , API_key = \"cxnJrpd5pqO3S94GGmwCc3mlqtwYG9Yo\", only_ase_Structure = True, conventional_unit_cell = False):\n",
    "    #connecting to MP database with API key\n",
    "    mpr = MPRester(API_key)\n",
    "    \n",
    "    # Fetch the structure for the material\n",
    "    structure = mpr.get_structure_by_material_id(material_id, conventional_unit_cell = conventional_unit_cell)\n",
    "    \n",
    "    #retriveing the coorniates and species of atoms\n",
    "    coordinates = []\n",
    "    coordinates_frac = []\n",
    "    species = []\n",
    "    species_name = []\n",
    "    structure_abc = np.array(structure.lattice.abc)\n",
    "    structure_angles = np.array(structure.lattice.angles)\n",
    "    alpha, beta, gamma = np.deg2rad(structure_angles[0]), np.deg2rad(structure_angles[1]), np.deg2rad(structure_angles[2])\n",
    "    #calculating the volume:\n",
    "    V = structure_abc[0]*structure_abc[1]*structure_abc[2]*np.sqrt(1-np.cos(alpha)**2-np.cos(beta)**2\n",
    "        -np.cos(gamma)**2+2*np.cos(alpha)*np.cos(beta)*np.cos(gamma))\n",
    "    \n",
    "    #making the matrix to convert vectors from fractional coordinates to cartesian coordinates:\n",
    "    A = np.transpose([[structure_abc[0],\n",
    "          0,\n",
    "          0],\n",
    "           [structure_abc[1]*np.cos(gamma),\n",
    "            structure_abc[1]*np.sin(gamma),\n",
    "            0],\n",
    "           [structure_abc[2]*np.cos(beta),\n",
    "             structure_abc[2]*(np.cos(alpha)-np.cos(beta)*np.cos(gamma))/np.sin(gamma), \n",
    "            V/(structure_abc[0]*structure_abc[1]*np.sin(gamma)) ]\n",
    "         ])\n",
    "    \n",
    "    for s in structure:\n",
    "            coordinates_frac.append(s.frac_coords) #would give fractional coordinates instead\n",
    "            coordinates.append(np.dot(A,np.transpose(s.frac_coords))) #cartesian coordinates calculated from fractional coordinates\n",
    "            species.append(s.specie.Z) #atomic number\n",
    "            species_name.append(s.specie) #would give strings (e.g. \"Fe\") instead of atomic number\n",
    "    \n",
    "    #saving data as dictionary\n",
    "    lattice = {'structure':{'Name' : species_name, 'Atmoic Number' : species , 'Coordniates' : coordinates ,\n",
    "              'Fractional coordinates' : coordinates_frac}, 'vector' : {'distance' : structure_abc, 'angles': structure_angles }}\n",
    "    \n",
    "    #making the unit cell compact form for ase (a,b,c,alpha,beta,gamma)\n",
    "    cell = np.copy(np.append(lattice['vector']['distance'],lattice['vector']['angles']))\n",
    "    ase_structure = Atoms(species, coordinates, cell = cell) #creating the strucutre in ase\n",
    "    if only_ase_Structure:\n",
    "        return ase_structure #returning only ase structure object\n",
    "    else:\n",
    "        return ase_structure, cell #returning ase structure object as well as cell dictionary\n"
   ]
  },
  {
   "cell_type": "code",
   "execution_count": 3,
   "metadata": {},
   "outputs": [],
   "source": [
    "def rot_ase_layer(atoms, theta):\n",
    "    rot_center = [atoms.cell[0][0]*0.5, atoms.cell[1][1]*0.5, atoms.cell[2][2]*0.5]#defining center of rotation of structure\n",
    "    atoms.rotate(theta, 'z', center = rot_center) #rotation of second layer"
   ]
  },
  {
   "cell_type": "code",
   "execution_count": 4,
   "metadata": {},
   "outputs": [],
   "source": [
    "def sampling_parameters(ase_structure, energy, resolution = 1):\n",
    "    \"\"\"making a dict with sampling paramateres. Units are in Å/Å^-1 and mrad\"\"\"\n",
    "    \n",
    "    f_nyquist = 0.5 # approximately double sampling rate of finest features of experiment\n",
    "    Picture_size = np.max(ase_structure.cell[0:2])  #Å - taking the largest of coordinate in of the cell in the x-y plane\n",
    "    delta_x = f_nyquist * resolution #pixel size length in Å\n",
    "    N = Picture_size/delta_x  # number of pixels\n",
    "    N = 2**math.ceil(math.log2(N)) #rounding up to nearest higher pixel count for FFT (as a factor of 2)\n",
    "    delta_x = Picture_size/N # recalculating pixel size with respect to new gpts\n",
    "\n",
    "\n",
    "    plane_wave = abtem.PlaneWave(gpts = N, extent=Picture_size,energy=energy)\n",
    "    wavelength = plane_wave.wavelength #defining the wavelength of the source electrons given in Å\n",
    "\n",
    "    reciprocal_P = round(1/(N*delta_x),6)\n",
    "    k_max = round(f_nyquist/delta_x,6) #å^-1\n",
    "    k_max_antialiasing = round(2/3 * k_max,6) \n",
    "    alpha = k_max_antialiasing * wavelength *10**3\n",
    "\n",
    "\n",
    "    return {\"energy\":energy, \"resolution\":resolution, \"Picture size\":Picture_size,\n",
    "            \"Pixel size\": delta_x, \"gpts\": N, \"Wavelength\" : wavelength,\n",
    "            \"Reciprocal pixel size\": reciprocal_P, \"k_max nyquist\": k_max,\n",
    "          \"k_max antialiasing\": k_max_antialiasing, \"Angular limitied resolution\": alpha}\n"
   ]
  },
  {
   "cell_type": "code",
   "execution_count": 5,
   "metadata": {},
   "outputs": [],
   "source": [
    "def potential_build(ase_structure, energy, \n",
    "                    slice_thickness = 1, parametrization=\"lobato\", \n",
    "                    projection=\"finite\", resolution=1):\n",
    "    \"\"\"Builds structure potential of either Atoms or Frozen Phonons obeject. Units given in Å and eV\"\"\"\n",
    "\n",
    "    #retrives sampling parameters\n",
    "    Param = sampling_parameters(ase_structure, energy, resolution)\n",
    "    \n",
    "    return abtem.Potential(ase_structure, gpts=Param['gpts'], parametrization=parametrization, \n",
    "                           slice_thickness=slice_thickness, projection=projection)"
   ]
  },
  {
   "cell_type": "code",
   "execution_count": 6,
   "metadata": {},
   "outputs": [],
   "source": [
    "def TEM_exit_wave(potential, input_wave, compute = True):\n",
    "    exit_wave = input_wave.multislice(potential)\n",
    "    if compute:\n",
    "        exit_wave.compute()\n",
    "    return exit_wave\n",
    "    "
   ]
  },
  {
   "cell_type": "code",
   "execution_count": 7,
   "metadata": {},
   "outputs": [],
   "source": [
    "def combine_layers(layer_1, layer_2, z_height):\n",
    "    combined_layer  = layer_1 + layer_2\n",
    "    combined_layer.cell[2][2] = z_height\n",
    "    return combined_layer"
   ]
  },
  {
   "cell_type": "code",
   "execution_count": 8,
   "metadata": {},
   "outputs": [],
   "source": [
    "def abtem_dict(ase_cell, theta, repetitions, interlayer_dist = 3, sliceThickness = 0.5):\n",
    "\n",
    "    #create layer 1 from repetitions and \n",
    "    layer_1 =  ase_cell * repetitions \n",
    "\n",
    "    #Define padding and distance between layers\n",
    "    xy_padding = layer_1.cell[0:2].max() *0.5 #xy vacuum 50% of layer size to avoid fringing\n",
    "    z_height = 2*interlayer_dist+ase_cell.cell[2][2]\n",
    "    z_padding = interlayer_dist/2 \n",
    "\n",
    "    #applying vacuum\n",
    "    layer_1.center(vacuum = xy_padding, axis=(0,1))\n",
    "    layer_1.center(vacuum = z_padding, axis=2)\n",
    "\n",
    "    #creating layer 2\n",
    "    layer_2 = layer_1.copy()\n",
    "    z_translation = [0,0,layer_1.cell[2][2]] #translation of layer2\n",
    "    layer_2.translate(z_translation)\n",
    "\n",
    "\n",
    "    #defining the sampling parameters:\n",
    "    sampling_pam = sampling_parameters(layer_1, energy = 300e3, resolution = 0.2)\n",
    "    #Make the ingoing plane wave:\n",
    "    plane_wave = abtem.PlaneWave(energy =sampling_pam['energy'],\n",
    "                                gpts = sampling_pam['gpts'],\n",
    "                                extent = sampling_pam['Picture size'])\n",
    "    ase_structures = []\n",
    "    potentials = []\n",
    "    exit_waves = []\n",
    "    counter = 1\n",
    "    total  = len(theta)\n",
    "    for phi in theta:\n",
    "        print('\\nAngle number: {0}/{1}'.format(counter,total))    \n",
    "        layer_3 = layer_2.copy() #make new instance of layer 2\n",
    "        rot_ase_layer(layer_3,phi) #rotate new instance\n",
    "        combined_layers = combine_layers(layer_1,layer_3, z_height)#combine new instance with fixed layer\n",
    "        ase_structures.append(combined_layers)\n",
    "        #build potential of new instance and add to list\n",
    "        potential = potential_build(combined_layers, energy=sampling_pam['energy'], \n",
    "                    slice_thickness = sliceThickness,\n",
    "                    projection=\"finite\", resolution=sampling_pam['resolution'])\n",
    "        print('\\nPotential: {0}/{1} calculated'.format(counter,total))  \n",
    "        potentials.append(potential)\n",
    "        #build exit wave and add to list\n",
    "        exit_wave = TEM_exit_wave(potential, plane_wave)\n",
    "        exit_waves.append(exit_wave)\n",
    "        print('\\nExit wave: {0}/{1} calculated'.format(counter,total)) \n",
    "        counter +=1 \n",
    "\n",
    "    return {'Rotation': theta, 'ASE structure':ase_structures,\n",
    "                'Potential': potentials, 'Exit waves': exit_waves }"
   ]
  },
  {
   "cell_type": "code",
   "execution_count": 9,
   "metadata": {},
   "outputs": [],
   "source": [
    "def reptitions_from_min_rep(ase_cell, repetitions):\n",
    "\n",
    "    #get the cell vectors in the XY plane\n",
    "    X = ase_cell.cell[0][0:2]\n",
    "    Y = ase_cell.cell[1][0:2]\n",
    "\n",
    "\n",
    "    #Calculate the fraction of the square section of the cell represented in the unit cell vectors \n",
    "    if Y[0]>=0:\n",
    "        X_extent = 1-Y[0]/X[0] \n",
    "    else:\n",
    "        X_extent = -Y[0]/X[0]\n",
    "    \n",
    "    Y_extent = 1-X[1]/Y[1]\n",
    "\n",
    "    #calculate the minimum repetitions needed for full coverage\n",
    "    X_rep = int(math.ceil(repetitions/X_extent))\n",
    "    Y_rep = int(math.ceil(repetitions/Y_extent))\n",
    "\n",
    "    return (X_rep,Y_rep,1)\n",
    "\n"
   ]
  },
  {
   "cell_type": "code",
   "execution_count": 10,
   "metadata": {},
   "outputs": [],
   "source": [
    "def repetitinos_from_min_extent(ase_cell, extent):\n",
    "\n",
    "    #get the cell vectors in the XY plane\n",
    "    X = ase_cell.cell[0][0:2]\n",
    "    Y = ase_cell.cell[1][0:2]\n",
    "\n",
    "    \n",
    "    #Calculate the fraction of the square section of the cell represented in the unit cell vectors \n",
    "    X_extent = abs(Y[0])/X[0]\n",
    "\n",
    "    \n",
    "\n",
    "    #calculate the minimum repetitions needed for full coverage\n",
    "    X_rep = int( math.ceil( extent* (1/X[0]) * (1+X_extent) ) )\n",
    "    Y_rep = int( math.ceil( extent / Y[1] ) ) \n",
    "\n",
    "    return (X_rep,Y_rep,1)\n"
   ]
  },
  {
   "cell_type": "code",
   "execution_count": 11,
   "metadata": {},
   "outputs": [],
   "source": [
    "def make_cell_cubic(ase_cell, extent, rounding_error_limit = 0.0001):\n",
    "\n",
    "    #get extent for making supercell a bit larger - gets cut down afterwards\n",
    "    extents = repetitinos_from_min_extent(ase_cell, extent*1.2)\n",
    "    supercell  = ase_cell * extents\n",
    "    if supercell.cell[1][0]>0:\n",
    "        supercell.translate([-supercell.cell[1][0],0,0])\n",
    "    view(supercell)\n",
    "    #redraw the supercell matrix as square in XY\n",
    "    supercell.cell[0] = [extent,0,0]\n",
    "    supercell.cell[1] = [0,extent,0]\n",
    "    view(supercell)\n",
    "\n",
    "    #remove all points that fall outside the supercell\n",
    "    index = 0\n",
    "    while index < len(supercell.positions):\n",
    "        if (min(supercell.positions[index][0:2])<= - rounding_error_limit\n",
    "        or max(supercell.positions[index][0:2])> extent+rounding_error_limit):\n",
    "            supercell.pop(index)\n",
    "        else:\n",
    "            index+=1\n",
    "    return supercell\n",
    "\n"
   ]
  },
  {
   "cell_type": "code",
   "execution_count": 165,
   "metadata": {},
   "outputs": [],
   "source": [
    "def generate_ctf(Cs = -20e-6*1e10, energy=300e3, defocus =\"scherzer\" ):\n",
    "   \"\"\"generate Contrast Transfer function to be applied on exit wave\n",
    "   \n",
    "   Parameters\n",
    "   ----------\n",
    "   Cs : float\n",
    "      the sperical abberation given in Å\n",
    "   energy: float\n",
    "      energy of the electron wave in eV\n",
    "   defocus: str or float\n",
    "      The defocus setting - either automatic as set to \"scherzer\" or a value in Å\n",
    "\n",
    "   Returns\n",
    "   -------\n",
    "   ctf : abtem.CTF\n",
    "      contrast transfer function object for the given parameters \n",
    "   \"\"\"\n",
    "   \n",
    "   \n",
    "   ctf = abtem.CTF(Cs=Cs, energy=energy, defocus=defocus)\n",
    "\n",
    "   print(f\"defocus = {ctf.defocus:.2f} Å\")\n",
    "   aberration_coefficients = {\"C10\": -ctf.defocus, \"C30\": Cs}\n",
    "\n",
    "   return abtem.CTF(aberration_coefficients=aberration_coefficients, energy=ctf.energy) \n",
    "   "
   ]
  },
  {
   "cell_type": "code",
   "execution_count": 12,
   "metadata": {},
   "outputs": [],
   "source": [
    "def gen_rotstack(ase_cell, Theta, repetitions, interlayer_dist=3, X=[0], Y=[0], sliceThickness = 0.5,\n",
    "                  xy_padding  = 3, extent_as_unitcell = False,\n",
    "                  save_exitwave = False, save_potentials = False, save_structures = False):\n",
    "    \"\"\"Function for getting data from many layers\"\"\"\n",
    "\n",
    "\n",
    "    #create layer 1 from repetitions and \n",
    "    layer_1 =  ase_cell * repetitions \n",
    "\n",
    "    #Define padding and distance between layers\n",
    "    #xy_padding = layer_1.cell[0:2].max() *0.5 #xy vacuum 50% of layer size to avoid fringing\n",
    "    z_height = 2*interlayer_dist+ase_cell.cell[2][2]\n",
    "    z_padding = interlayer_dist/2 \n",
    "\n",
    "    #applying vacuum\n",
    "    layer_1.center(vacuum = xy_padding, axis=(0,1))\n",
    "    layer_1.center(vacuum = z_padding, axis=2)\n",
    "\n",
    "    #creating layer 2\n",
    "    layer_2 = layer_1.copy()\n",
    "    z_translation = [0,0,layer_1.cell[2][2]] #translation of layer2\n",
    "    layer_2.translate(z_translation)\n",
    "\n",
    "\n",
    "    #defining the sampling parameters:\n",
    "    sampling_pam = sampling_parameters(layer_1, energy = 300e3, resolution = 0.2)\n",
    "    #Make the ingoing plane wave:\n",
    "    plane_wave = abtem.PlaneWave(energy =sampling_pam['energy'],\n",
    "                                gpts = sampling_pam['gpts'],\n",
    "                                extent = sampling_pam['Picture size'])\n",
    "\n",
    "    ase_structures = []\n",
    "    potentials = []\n",
    "    exit_waves = []\n",
    "\n",
    "\n",
    "    A  = len(Theta)\n",
    "    B = len(X)\n",
    "    C = len(Y)\n",
    "    D = int(sampling_pam['gpts'])\n",
    "\n",
    "    data_save = np.zeros((A,B,C,D,D))    \n",
    "    \n",
    "\n",
    "    for k, phi in enumerate(tqdm(Theta, desc ='Angle number:', leave=False) ): \n",
    "        for j, x in enumerate(tqdm(X, desc ='X translation:', leave=False)):\n",
    "            for l, y in enumerate(tqdm(Y, desc ='Y translation:', leave=False)):\n",
    "                layer_3 = layer_2.copy() #make new instance of layer 2\n",
    "                rot_ase_layer(layer_3,phi) #rotate new instance\n",
    "                layer_3.translate([x,y,0]) #translate structure\n",
    "\n",
    "\n",
    "                combined_layers = combine_layers(layer_1,layer_3, z_height)#combine new instance with fixed layer\n",
    "                if save_structures:\n",
    "                    ase_structures.append(combined_layers)\n",
    "\n",
    "                #build potential of new instance and add to list\n",
    "                potential = potential_build(combined_layers, \n",
    "                                            energy=sampling_pam['energy'], \n",
    "                                            slice_thickness = sliceThickness,\n",
    "                                            projection=\"finite\", \n",
    "                                            resolution=sampling_pam['resolution'],\n",
    "                                            )\n",
    "                if save_potentials:\n",
    "                    potentials.append(potential)\n",
    "\n",
    "                #build exit wave and add to list\n",
    "                exit_wave = TEM_exit_wave(potential, plane_wave)\n",
    "                if save_exitwave:\n",
    "                    exit_waves.append(exit_wave)\n",
    "\n",
    "                array = np.array(exit_wave.intensity().array)\n",
    "                data_save[k,j,l] = array\n",
    "                       \n",
    "    metadata = {'Rotation' : Theta, 'x_translation' : X, 'y_translation' : Y, \n",
    "                'ASE structure' : ase_structures, 'Potential' : potentials, \n",
    "                'Exit waves' : exit_waves}\n",
    "        \n",
    "\n",
    "\n",
    "    return data_save, metadata"
   ]
  },
  {
   "cell_type": "markdown",
   "metadata": {},
   "source": [
    "## Make ASE structure"
   ]
  },
  {
   "cell_type": "code",
   "execution_count": 77,
   "metadata": {},
   "outputs": [
    {
     "data": {
      "application/vnd.jupyter.widget-view+json": {
       "model_id": "cc7a40eb014047089a515f632269315e",
       "version_major": 2,
       "version_minor": 0
      },
      "text/plain": [
       "Retrieving MaterialsDoc documents:   0%|          | 0/1 [00:00<?, ?it/s]"
      ]
     },
     "metadata": {},
     "output_type": "display_data"
    }
   ],
   "source": [
    "material_Id = \"mp-5229\"\n",
    "srtio3 = structure_from_MP(material_Id, conventional_unit_cell = False)"
   ]
  },
  {
   "cell_type": "code",
   "execution_count": 158,
   "metadata": {},
   "outputs": [],
   "source": [
    "repetitions = (8,8,1) #number of duplicates\n",
    "padding = 5#vaccume padding around perimeter of structure in Å\n",
    "\n",
    "\n",
    "layer_1 =  srtio3 * repetitions\n",
    "\n",
    "layer_1.center(vacuum = padding, axis=(0,1))"
   ]
  },
  {
   "cell_type": "code",
   "execution_count": 159,
   "metadata": {},
   "outputs": [],
   "source": [
    "#create second\n",
    "interlayer_dist = 3 #interlayer vacuum - added to layer 1 since this layer is only calulated once\n",
    "layer_2 = layer_1.copy()\n",
    "layer_1.center(vacuum = interlayer_dist, axis=2)"
   ]
  },
  {
   "cell_type": "code",
   "execution_count": 118,
   "metadata": {},
   "outputs": [
    {
     "data": {
      "text/plain": [
       "<Popen: returncode: None args: ['c:\\\\Users\\\\Bruger\\\\anaconda3\\\\envs\\\\moire_c...>"
      ]
     },
     "execution_count": 118,
     "metadata": {},
     "output_type": "execute_result"
    }
   ],
   "source": [
    "view(layer_1)"
   ]
  },
  {
   "cell_type": "markdown",
   "metadata": {},
   "source": [
    "## Building structure potential"
   ]
  },
  {
   "cell_type": "code",
   "execution_count": 119,
   "metadata": {},
   "outputs": [
    {
     "data": {
      "text/plain": [
       "{'energy': 300000.0,\n",
       " 'resolution': 0.2,\n",
       " 'Picture size': 39.34525982500001,\n",
       " 'Pixel size': 0.07684621059570314,\n",
       " 'gpts': 512,\n",
       " 'Wavelength': 0.01968748889772767,\n",
       " 'Reciprocal pixel size': 0.025416,\n",
       " 'k_max nyquist': 6.506502,\n",
       " 'k_max antialiasing': 4.337668,\n",
       " 'Angular limitied resolution': 85.39779059202858}"
      ]
     },
     "execution_count": 119,
     "metadata": {},
     "output_type": "execute_result"
    }
   ],
   "source": [
    "#defining the sampling parameters:\n",
    "sampling_pam = sampling_parameters(layer_1, energy = 300e3, resolution = 0.2)\n",
    "sampling_pam"
   ]
  },
  {
   "cell_type": "code",
   "execution_count": 120,
   "metadata": {},
   "outputs": [
    {
     "name": "stdout",
     "output_type": "stream",
     "text": [
      "\n",
      "Angle number: 1/20\n",
      "\n",
      "Potential: 1/20 calculated\n",
      "[                                        ] | 0% Completed | 3.80 s ms\n"
     ]
    },
    {
     "name": "stderr",
     "output_type": "stream",
     "text": [
      "c:\\Users\\Bruger\\anaconda3\\envs\\moire_course\\Lib\\site-packages\\abtem\\array.py:1005: SyntaxWarning: invalid escape sequence '\\T'\n",
      "  \"\"\"\n"
     ]
    },
    {
     "ename": "KeyboardInterrupt",
     "evalue": "",
     "output_type": "error",
     "traceback": [
      "\u001b[1;31m---------------------------------------------------------------------------\u001b[0m",
      "\u001b[1;31mKeyboardInterrupt\u001b[0m                         Traceback (most recent call last)",
      "Cell \u001b[1;32mIn[120], line 7\u001b[0m\n\u001b[0;32m      3\u001b[0m theta \u001b[38;5;241m=\u001b[39m np\u001b[38;5;241m.\u001b[39marange(\u001b[38;5;241m0\u001b[39m,\u001b[38;5;241m20\u001b[39m,\u001b[38;5;241m1\u001b[39m)\n\u001b[0;32m      4\u001b[0m interlayer_dist  \u001b[38;5;241m=\u001b[39m \u001b[38;5;241m3\u001b[39m\n\u001b[1;32m----> 7\u001b[0m thte_0_20 \u001b[38;5;241m=\u001b[39m abtem_dict(srtio3,theta,repetitions, interlayer_dist  \u001b[38;5;241m=\u001b[39m \u001b[38;5;241m3\u001b[39m,sliceThickness \u001b[38;5;241m=\u001b[39m \u001b[38;5;241m1\u001b[39m)\n",
      "Cell \u001b[1;32mIn[8], line 45\u001b[0m, in \u001b[0;36mabtem_dict\u001b[1;34m(ase_cell, theta, repetitions, interlayer_dist, sliceThickness)\u001b[0m\n\u001b[0;32m     43\u001b[0m potentials\u001b[38;5;241m.\u001b[39mappend(potential)\n\u001b[0;32m     44\u001b[0m \u001b[38;5;66;03m#build exit wave and add to list\u001b[39;00m\n\u001b[1;32m---> 45\u001b[0m exit_wave \u001b[38;5;241m=\u001b[39m TEM_exit_wave(potential, plane_wave)\n\u001b[0;32m     46\u001b[0m exit_waves\u001b[38;5;241m.\u001b[39mappend(exit_wave)\n\u001b[0;32m     47\u001b[0m \u001b[38;5;28mprint\u001b[39m(\u001b[38;5;124m'\u001b[39m\u001b[38;5;130;01m\\n\u001b[39;00m\u001b[38;5;124mExit wave: \u001b[39m\u001b[38;5;132;01m{0}\u001b[39;00m\u001b[38;5;124m/\u001b[39m\u001b[38;5;132;01m{1}\u001b[39;00m\u001b[38;5;124m calculated\u001b[39m\u001b[38;5;124m'\u001b[39m\u001b[38;5;241m.\u001b[39mformat(counter,total)) \n",
      "Cell \u001b[1;32mIn[6], line 4\u001b[0m, in \u001b[0;36mTEM_exit_wave\u001b[1;34m(potential, input_wave, compute)\u001b[0m\n\u001b[0;32m      2\u001b[0m exit_wave \u001b[38;5;241m=\u001b[39m input_wave\u001b[38;5;241m.\u001b[39mmultislice(potential)\n\u001b[0;32m      3\u001b[0m \u001b[38;5;28;01mif\u001b[39;00m compute:\n\u001b[1;32m----> 4\u001b[0m     exit_wave\u001b[38;5;241m.\u001b[39mcompute()\n\u001b[0;32m      5\u001b[0m \u001b[38;5;28;01mreturn\u001b[39;00m exit_wave\n",
      "File \u001b[1;32mc:\\Users\\Bruger\\anaconda3\\envs\\moire_course\\Lib\\site-packages\\abtem\\array.py:1024\u001b[0m, in \u001b[0;36mArrayObject.compute\u001b[1;34m(self, progress_bar, profiler, resource_profiler, **kwargs)\u001b[0m\n\u001b[0;32m   1021\u001b[0m \u001b[38;5;28;01mif\u001b[39;00m \u001b[38;5;129;01mnot\u001b[39;00m \u001b[38;5;28mself\u001b[39m\u001b[38;5;241m.\u001b[39mis_lazy:\n\u001b[0;32m   1022\u001b[0m     \u001b[38;5;28;01mreturn\u001b[39;00m \u001b[38;5;28mself\u001b[39m\n\u001b[1;32m-> 1024\u001b[0m output, profilers \u001b[38;5;241m=\u001b[39m _compute(\n\u001b[0;32m   1025\u001b[0m     [\u001b[38;5;28mself\u001b[39m],\n\u001b[0;32m   1026\u001b[0m     progress_bar\u001b[38;5;241m=\u001b[39mprogress_bar,\n\u001b[0;32m   1027\u001b[0m     profiler\u001b[38;5;241m=\u001b[39mprofiler,\n\u001b[0;32m   1028\u001b[0m     resource_profiler\u001b[38;5;241m=\u001b[39mresource_profiler,\n\u001b[0;32m   1029\u001b[0m     \u001b[38;5;241m*\u001b[39m\u001b[38;5;241m*\u001b[39mkwargs,\n\u001b[0;32m   1030\u001b[0m )\n\u001b[0;32m   1032\u001b[0m output \u001b[38;5;241m=\u001b[39m output[\u001b[38;5;241m0\u001b[39m]\n\u001b[0;32m   1034\u001b[0m \u001b[38;5;28;01mif\u001b[39;00m profilers:\n",
      "File \u001b[1;32mc:\\Users\\Bruger\\anaconda3\\envs\\moire_course\\Lib\\site-packages\\abtem\\array.py:252\u001b[0m, in \u001b[0;36m_compute\u001b[1;34m(dask_array_wrappers, progress_bar, profiler, resource_profiler, **kwargs)\u001b[0m\n\u001b[0;32m    247\u001b[0m         kwargs[\u001b[38;5;124m\"\u001b[39m\u001b[38;5;124mthreads_per_worker\u001b[39m\u001b[38;5;124m\"\u001b[39m] \u001b[38;5;241m=\u001b[39m cp\u001b[38;5;241m.\u001b[39mcuda\u001b[38;5;241m.\u001b[39mruntime\u001b[38;5;241m.\u001b[39mgetDeviceCount()\n\u001b[0;32m    249\u001b[0m \u001b[38;5;28;01mwith\u001b[39;00m _compute_context(\n\u001b[0;32m    250\u001b[0m     progress_bar, profiler\u001b[38;5;241m=\u001b[39mprofiler, resource_profiler\u001b[38;5;241m=\u001b[39mresource_profiler\n\u001b[0;32m    251\u001b[0m ) \u001b[38;5;28;01mas\u001b[39;00m (_, profiler, resource_profiler, _):\n\u001b[1;32m--> 252\u001b[0m     arrays \u001b[38;5;241m=\u001b[39m dask\u001b[38;5;241m.\u001b[39mcompute(\n\u001b[0;32m    253\u001b[0m         [wrapper\u001b[38;5;241m.\u001b[39marray \u001b[38;5;28;01mfor\u001b[39;00m wrapper \u001b[38;5;129;01min\u001b[39;00m dask_array_wrappers], \u001b[38;5;241m*\u001b[39m\u001b[38;5;241m*\u001b[39mkwargs\n\u001b[0;32m    254\u001b[0m     )[\u001b[38;5;241m0\u001b[39m]\n\u001b[0;32m    256\u001b[0m \u001b[38;5;28;01mfor\u001b[39;00m array, wrapper \u001b[38;5;129;01min\u001b[39;00m \u001b[38;5;28mzip\u001b[39m(arrays, dask_array_wrappers):\n\u001b[0;32m    257\u001b[0m     wrapper\u001b[38;5;241m.\u001b[39m_array \u001b[38;5;241m=\u001b[39m array\n",
      "File \u001b[1;32mc:\\Users\\Bruger\\anaconda3\\envs\\moire_course\\Lib\\site-packages\\dask\\base.py:660\u001b[0m, in \u001b[0;36mcompute\u001b[1;34m(traverse, optimize_graph, scheduler, get, *args, **kwargs)\u001b[0m\n\u001b[0;32m    657\u001b[0m     postcomputes\u001b[38;5;241m.\u001b[39mappend(x\u001b[38;5;241m.\u001b[39m__dask_postcompute__())\n\u001b[0;32m    659\u001b[0m \u001b[38;5;28;01mwith\u001b[39;00m shorten_traceback():\n\u001b[1;32m--> 660\u001b[0m     results \u001b[38;5;241m=\u001b[39m schedule(dsk, keys, \u001b[38;5;241m*\u001b[39m\u001b[38;5;241m*\u001b[39mkwargs)\n\u001b[0;32m    662\u001b[0m \u001b[38;5;28;01mreturn\u001b[39;00m repack([f(r, \u001b[38;5;241m*\u001b[39ma) \u001b[38;5;28;01mfor\u001b[39;00m r, (f, a) \u001b[38;5;129;01min\u001b[39;00m \u001b[38;5;28mzip\u001b[39m(results, postcomputes)])\n",
      "File \u001b[1;32mc:\\Users\\Bruger\\anaconda3\\envs\\moire_course\\Lib\\queue.py:180\u001b[0m, in \u001b[0;36mQueue.get\u001b[1;34m(self, block, timeout)\u001b[0m\n\u001b[0;32m    178\u001b[0m         \u001b[38;5;28;01mif\u001b[39;00m remaining \u001b[38;5;241m<\u001b[39m\u001b[38;5;241m=\u001b[39m \u001b[38;5;241m0.0\u001b[39m:\n\u001b[0;32m    179\u001b[0m             \u001b[38;5;28;01mraise\u001b[39;00m Empty\n\u001b[1;32m--> 180\u001b[0m         \u001b[38;5;28mself\u001b[39m\u001b[38;5;241m.\u001b[39mnot_empty\u001b[38;5;241m.\u001b[39mwait(remaining)\n\u001b[0;32m    181\u001b[0m item \u001b[38;5;241m=\u001b[39m \u001b[38;5;28mself\u001b[39m\u001b[38;5;241m.\u001b[39m_get()\n\u001b[0;32m    182\u001b[0m \u001b[38;5;28mself\u001b[39m\u001b[38;5;241m.\u001b[39mnot_full\u001b[38;5;241m.\u001b[39mnotify()\n",
      "File \u001b[1;32mc:\\Users\\Bruger\\anaconda3\\envs\\moire_course\\Lib\\threading.py:359\u001b[0m, in \u001b[0;36mCondition.wait\u001b[1;34m(self, timeout)\u001b[0m\n\u001b[0;32m    357\u001b[0m \u001b[38;5;28;01melse\u001b[39;00m:\n\u001b[0;32m    358\u001b[0m     \u001b[38;5;28;01mif\u001b[39;00m timeout \u001b[38;5;241m>\u001b[39m \u001b[38;5;241m0\u001b[39m:\n\u001b[1;32m--> 359\u001b[0m         gotit \u001b[38;5;241m=\u001b[39m waiter\u001b[38;5;241m.\u001b[39macquire(\u001b[38;5;28;01mTrue\u001b[39;00m, timeout)\n\u001b[0;32m    360\u001b[0m     \u001b[38;5;28;01melse\u001b[39;00m:\n\u001b[0;32m    361\u001b[0m         gotit \u001b[38;5;241m=\u001b[39m waiter\u001b[38;5;241m.\u001b[39macquire(\u001b[38;5;28;01mFalse\u001b[39;00m)\n",
      "\u001b[1;31mKeyboardInterrupt\u001b[0m: "
     ]
    }
   ],
   "source": [
    "\n",
    "ase_cell = srtio3\n",
    "repetitions = (10,10,2)\n",
    "theta = np.arange(0,20,1)\n",
    "interlayer_dist  = 3\n",
    "\n",
    "\n",
    "thte_0_20 = abtem_dict(srtio3,theta,repetitions, interlayer_dist  = 3,sliceThickness = 1)\n",
    "    \n",
    "\n"
   ]
  },
  {
   "cell_type": "markdown",
   "metadata": {},
   "source": [
    "## Experiment with stack of stacks design"
   ]
  },
  {
   "cell_type": "code",
   "execution_count": 13,
   "metadata": {},
   "outputs": [
    {
     "data": {
      "application/vnd.jupyter.widget-view+json": {
       "model_id": "d05c0c7aa3a94acd90c85680b4abc553",
       "version_major": 2,
       "version_minor": 0
      },
      "text/plain": [
       "Retrieving MaterialsDoc documents:   0%|          | 0/1 [00:00<?, ?it/s]"
      ]
     },
     "metadata": {},
     "output_type": "display_data"
    },
    {
     "data": {
      "text/plain": [
       "<Popen: returncode: None args: ['c:\\\\Users\\\\Bruger\\\\anaconda3\\\\envs\\\\moire_c...>"
      ]
     },
     "execution_count": 13,
     "metadata": {},
     "output_type": "execute_result"
    }
   ],
   "source": [
    "material_Id = \"mp-5229\"\n",
    "#material_Id = \"mp-867815\"\n",
    "#material_Id = \"mp-862690\"\n",
    "#material_Id = \"mp-28965\"\n",
    "#material_Id = \"mp-542298\"\n",
    "ase_cell, cell_param = structure_from_MP(material_Id, conventional_unit_cell = True, only_ase_Structure=False)\n",
    "view(ase_cell)"
   ]
  },
  {
   "cell_type": "code",
   "execution_count": 14,
   "metadata": {},
   "outputs": [
    {
     "data": {
      "text/plain": [
       "<Popen: returncode: None args: ['c:\\\\Users\\\\Bruger\\\\anaconda3\\\\envs\\\\moire_c...>"
      ]
     },
     "execution_count": 14,
     "metadata": {},
     "output_type": "execute_result"
    }
   ],
   "source": [
    "cell_param[3:]\n",
    "cut_cell = ase.build.surface(ase_cell, indices = (1,1,3), layers=5, vacuum=None, tol=1e-10, periodic=False)\n",
    "view(cut_cell)"
   ]
  },
  {
   "cell_type": "code",
   "execution_count": 15,
   "metadata": {},
   "outputs": [
    {
     "data": {
      "text/plain": [
       "ase.atoms.Atoms"
      ]
     },
     "execution_count": 15,
     "metadata": {},
     "output_type": "execute_result"
    }
   ],
   "source": [
    "type(ase_cell)"
   ]
  },
  {
   "cell_type": "code",
   "execution_count": 16,
   "metadata": {},
   "outputs": [
    {
     "data": {
      "text/plain": [
       "Cell([3.9127013100000005, 3.9127013100000005, 3.9127013100000005])"
      ]
     },
     "execution_count": 16,
     "metadata": {},
     "output_type": "execute_result"
    }
   ],
   "source": [
    "ase_cell.cell"
   ]
  },
  {
   "cell_type": "code",
   "execution_count": 17,
   "metadata": {},
   "outputs": [
    {
     "data": {
      "text/plain": [
       "<Popen: returncode: None args: ['c:\\\\Users\\\\Bruger\\\\anaconda3\\\\envs\\\\moire_c...>"
      ]
     },
     "execution_count": 17,
     "metadata": {},
     "output_type": "execute_result"
    }
   ],
   "source": [
    "rep_min = 5\n",
    "reps = reptitions_from_min_rep(ase_cell, rep_min)\n",
    "ase_celllll = ase_cell*reps\n",
    "view(ase_celllll)"
   ]
  },
  {
   "cell_type": "code",
   "execution_count": 18,
   "metadata": {},
   "outputs": [
    {
     "data": {
      "text/plain": [
       "<Popen: returncode: None args: ['c:\\\\Users\\\\Bruger\\\\anaconda3\\\\envs\\\\moire_c...>"
      ]
     },
     "execution_count": 18,
     "metadata": {},
     "output_type": "execute_result"
    }
   ],
   "source": [
    "extent_min = 30\n",
    "\n",
    "reps = repetitinos_from_min_extent(cut_cell, extent_min)\n",
    "cut_celllll = cut_cell*reps\n",
    "view(cut_celllll)"
   ]
  },
  {
   "cell_type": "code",
   "execution_count": 72,
   "metadata": {},
   "outputs": [
    {
     "ename": "TypeError",
     "evalue": "object of type 'NoneType' has no len()",
     "output_type": "error",
     "traceback": [
      "\u001b[1;31m---------------------------------------------------------------------------\u001b[0m",
      "\u001b[1;31mTypeError\u001b[0m                                 Traceback (most recent call last)",
      "Cell \u001b[1;32mIn[72], line 8\u001b[0m\n\u001b[0;32m      6\u001b[0m l2\u001b[38;5;241m.\u001b[39mcell[\u001b[38;5;241m2\u001b[39m][\u001b[38;5;241m2\u001b[39m]\u001b[38;5;241m=\u001b[39m cut_cell\u001b[38;5;241m.\u001b[39mpositions[:,\u001b[38;5;241m2\u001b[39m]\u001b[38;5;241m.\u001b[39mmax()\n\u001b[0;32m      7\u001b[0m view(l2)\n\u001b[1;32m----> 8\u001b[0m \u001b[38;5;28mlen\u001b[39m(\u001b[38;5;28;01mNone\u001b[39;00m)\n",
      "\u001b[1;31mTypeError\u001b[0m: object of type 'NoneType' has no len()"
     ]
    }
   ],
   "source": [
    "l1 = cut_celllll.copy()\n",
    "l2 = cut_celllll.copy()\n",
    "rot_ase_layer(l2, 10)\n",
    "view(l2)\n",
    "l2 = make_cell_cubic(l2, extent_min)\n",
    "l2.cell[2][2]= cut_cell.positions[:,2].max()\n",
    "view(l2)\n",
    "len(None)"
   ]
  },
  {
   "cell_type": "code",
   "execution_count": 71,
   "metadata": {},
   "outputs": [
    {
     "data": {
      "text/plain": [
       "<Popen: returncode: None args: ['c:\\\\Users\\\\Bruger\\\\anaconda3\\\\envs\\\\moire_c...>"
      ]
     },
     "execution_count": 71,
     "metadata": {},
     "output_type": "execute_result"
    }
   ],
   "source": [
    "view(l1)\n",
    "view(l2)\n",
    "view(l1+l2)"
   ]
  },
  {
   "cell_type": "code",
   "execution_count": null,
   "metadata": {},
   "outputs": [],
   "source": []
  },
  {
   "cell_type": "code",
   "execution_count": null,
   "metadata": {},
   "outputs": [],
   "source": []
  },
  {
   "cell_type": "code",
   "execution_count": 51,
   "metadata": {},
   "outputs": [
    {
     "ename": "LinAlgError",
     "evalue": "Singular matrix",
     "output_type": "error",
     "traceback": [
      "\u001b[1;31m---------------------------------------------------------------------------\u001b[0m",
      "\u001b[1;31mLinAlgError\u001b[0m                               Traceback (most recent call last)",
      "Cell \u001b[1;32mIn[51], line 1\u001b[0m\n\u001b[1;32m----> 1\u001b[0m ase\u001b[38;5;241m.\u001b[39mgeometry\u001b[38;5;241m.\u001b[39mget_layers(cut_cell, miller \u001b[38;5;241m=\u001b[39m [\u001b[38;5;241m0\u001b[39m,\u001b[38;5;241m0\u001b[39m,\u001b[38;5;241m1\u001b[39m])\n",
      "File \u001b[1;32mc:\\Users\\Bruger\\anaconda3\\envs\\moire_course\\Lib\\site-packages\\ase\\geometry\\geometry.py:141\u001b[0m, in \u001b[0;36mget_layers\u001b[1;34m(atoms, miller, tolerance)\u001b[0m\n\u001b[0;32m    138\u001b[0m miller \u001b[38;5;241m=\u001b[39m np\u001b[38;5;241m.\u001b[39masarray(miller)\n\u001b[0;32m    140\u001b[0m metric \u001b[38;5;241m=\u001b[39m np\u001b[38;5;241m.\u001b[39mdot(atoms\u001b[38;5;241m.\u001b[39mcell, atoms\u001b[38;5;241m.\u001b[39mcell\u001b[38;5;241m.\u001b[39mT)\n\u001b[1;32m--> 141\u001b[0m c \u001b[38;5;241m=\u001b[39m np\u001b[38;5;241m.\u001b[39mlinalg\u001b[38;5;241m.\u001b[39msolve(metric\u001b[38;5;241m.\u001b[39mT, miller\u001b[38;5;241m.\u001b[39mT)\u001b[38;5;241m.\u001b[39mT\n\u001b[0;32m    142\u001b[0m miller_norm \u001b[38;5;241m=\u001b[39m np\u001b[38;5;241m.\u001b[39msqrt(np\u001b[38;5;241m.\u001b[39mdot(c, miller))\n\u001b[0;32m    143\u001b[0m d \u001b[38;5;241m=\u001b[39m np\u001b[38;5;241m.\u001b[39mdot(atoms\u001b[38;5;241m.\u001b[39mget_scaled_positions(), miller) \u001b[38;5;241m/\u001b[39m miller_norm\n",
      "File \u001b[1;32mc:\\Users\\Bruger\\anaconda3\\envs\\moire_course\\Lib\\site-packages\\numpy\\linalg\\linalg.py:409\u001b[0m, in \u001b[0;36msolve\u001b[1;34m(a, b)\u001b[0m\n\u001b[0;32m    407\u001b[0m signature \u001b[38;5;241m=\u001b[39m \u001b[38;5;124m'\u001b[39m\u001b[38;5;124mDD->D\u001b[39m\u001b[38;5;124m'\u001b[39m \u001b[38;5;28;01mif\u001b[39;00m isComplexType(t) \u001b[38;5;28;01melse\u001b[39;00m \u001b[38;5;124m'\u001b[39m\u001b[38;5;124mdd->d\u001b[39m\u001b[38;5;124m'\u001b[39m\n\u001b[0;32m    408\u001b[0m extobj \u001b[38;5;241m=\u001b[39m get_linalg_error_extobj(_raise_linalgerror_singular)\n\u001b[1;32m--> 409\u001b[0m r \u001b[38;5;241m=\u001b[39m gufunc(a, b, signature\u001b[38;5;241m=\u001b[39msignature, extobj\u001b[38;5;241m=\u001b[39mextobj)\n\u001b[0;32m    411\u001b[0m \u001b[38;5;28;01mreturn\u001b[39;00m wrap(r\u001b[38;5;241m.\u001b[39mastype(result_t, copy\u001b[38;5;241m=\u001b[39m\u001b[38;5;28;01mFalse\u001b[39;00m))\n",
      "File \u001b[1;32mc:\\Users\\Bruger\\anaconda3\\envs\\moire_course\\Lib\\site-packages\\numpy\\linalg\\linalg.py:112\u001b[0m, in \u001b[0;36m_raise_linalgerror_singular\u001b[1;34m(err, flag)\u001b[0m\n\u001b[0;32m    111\u001b[0m \u001b[38;5;28;01mdef\u001b[39;00m \u001b[38;5;21m_raise_linalgerror_singular\u001b[39m(err, flag):\n\u001b[1;32m--> 112\u001b[0m     \u001b[38;5;28;01mraise\u001b[39;00m LinAlgError(\u001b[38;5;124m\"\u001b[39m\u001b[38;5;124mSingular matrix\u001b[39m\u001b[38;5;124m\"\u001b[39m)\n",
      "\u001b[1;31mLinAlgError\u001b[0m: Singular matrix"
     ]
    }
   ],
   "source": []
  },
  {
   "cell_type": "code",
   "execution_count": 227,
   "metadata": {},
   "outputs": [
    {
     "data": {
      "text/plain": [
       "0.0"
      ]
     },
     "execution_count": 227,
     "metadata": {},
     "output_type": "execute_result"
    }
   ],
   "source": [
    "min(ase_celllll.positions[0][0:2])"
   ]
  },
  {
   "cell_type": "code",
   "execution_count": 228,
   "metadata": {},
   "outputs": [
    {
     "data": {
      "text/plain": [
       "<Popen: returncode: None args: ['c:\\\\Users\\\\Bruger\\\\anaconda3\\\\envs\\\\moire_c...>"
      ]
     },
     "execution_count": 228,
     "metadata": {},
     "output_type": "execute_result"
    }
   ],
   "source": [
    "new_cell = make_cell_cubic(ase_celllll,extent_min)\n",
    "view(new_cell)"
   ]
  },
  {
   "cell_type": "code",
   "execution_count": 30,
   "metadata": {},
   "outputs": [
    {
     "data": {
      "text/plain": [
       "<Popen: returncode: None args: ['c:\\\\Users\\\\Bruger\\\\anaconda3\\\\envs\\\\moire_c...>"
      ]
     },
     "execution_count": 30,
     "metadata": {},
     "output_type": "execute_result"
    }
   ],
   "source": [
    "ase_celllll.rotate(10, 'z', rotate_cell=True)\n",
    "view(ase_celllll)"
   ]
  },
  {
   "cell_type": "code",
   "execution_count": 256,
   "metadata": {},
   "outputs": [
    {
     "data": {
      "text/plain": [
       "Cell([[13.833488145292442, 13.833488145292442, 0.0], [-13.833488145292442, 13.833488145292442, 0.0], [0.0, 0.0, 3.912701310000001]])"
      ]
     },
     "execution_count": 256,
     "metadata": {},
     "output_type": "execute_result"
    }
   ],
   "source": [
    "ase_celllll.cell"
   ]
  },
  {
   "cell_type": "code",
   "execution_count": 31,
   "metadata": {},
   "outputs": [
    {
     "data": {
      "text/plain": [
       "Cell([30.0, 30.0, 3.9127013100000005])"
      ]
     },
     "execution_count": 31,
     "metadata": {},
     "output_type": "execute_result"
    }
   ],
   "source": [
    "s_n_c, transform = abtem.orthogonalize_cell(ase_celllll, return_transform=True, box = [extent_min, extent_min,ase_celllll.cell[2][2] ])\n",
    "view(s_n_c)\n",
    "s_n_c.cell"
   ]
  },
  {
   "cell_type": "code",
   "execution_count": 258,
   "metadata": {},
   "outputs": [
    {
     "data": {
      "text/plain": [
       "<Popen: returncode: None args: ['c:\\\\Users\\\\Bruger\\\\anaconda3\\\\envs\\\\moire_c...>"
      ]
     },
     "execution_count": 258,
     "metadata": {},
     "output_type": "execute_result"
    }
   ],
   "source": [
    "view(ase_celllll)"
   ]
  },
  {
   "cell_type": "code",
   "execution_count": 262,
   "metadata": {},
   "outputs": [
    {
     "data": {
      "text/plain": [
       "(array([ 0., -0.,  0.]), array([1., 1., 1.]), array([0., 0., 0.]))"
      ]
     },
     "execution_count": 262,
     "metadata": {},
     "output_type": "execute_result"
    }
   ],
   "source": [
    "transform"
   ]
  },
  {
   "cell_type": "code",
   "execution_count": 130,
   "metadata": {},
   "outputs": [
    {
     "data": {
      "text/plain": [
       "<Popen: returncode: None args: ['c:\\\\Users\\\\Bruger\\\\anaconda3\\\\envs\\\\moire_c...>"
      ]
     },
     "execution_count": 130,
     "metadata": {},
     "output_type": "execute_result"
    }
   ],
   "source": [
    "supercell = ase_cell * (2,2,2)\n",
    "view(supercell)\n"
   ]
  },
  {
   "cell_type": "code",
   "execution_count": 131,
   "metadata": {},
   "outputs": [
    {
     "data": {
      "text/plain": [
       "<Popen: returncode: None args: ['c:\\\\Users\\\\Bruger\\\\anaconda3\\\\envs\\\\moire_c...>"
      ]
     },
     "execution_count": 131,
     "metadata": {},
     "output_type": "execute_result"
    }
   ],
   "source": [
    "cutted_cell = ase.build.cut(supercell, a = (1,0,0), b=(2,2,2))\n",
    "view(cutted_cell)"
   ]
  },
  {
   "cell_type": "code",
   "execution_count": 132,
   "metadata": {},
   "outputs": [
    {
     "ename": "NameError",
     "evalue": "name 'kwargs' is not defined",
     "output_type": "error",
     "traceback": [
      "\u001b[1;31m---------------------------------------------------------------------------\u001b[0m",
      "\u001b[1;31mNameError\u001b[0m                                 Traceback (most recent call last)",
      "Cell \u001b[1;32mIn[132], line 1\u001b[0m\n\u001b[1;32m----> 1\u001b[0m abtem\u001b[38;5;241m.\u001b[39mvisualize\u001b[38;5;241m.\u001b[39mvisualizations\u001b[38;5;241m.\u001b[39mshow_atoms(cutted_cell, plane\u001b[38;5;241m=\u001b[39m\u001b[38;5;124m'\u001b[39m\u001b[38;5;124mxy\u001b[39m\u001b[38;5;124m'\u001b[39m, ax\u001b[38;5;241m=\u001b[39m\u001b[38;5;28;01mNone\u001b[39;00m, scale\u001b[38;5;241m=\u001b[39m\u001b[38;5;241m0.75\u001b[39m, title\u001b[38;5;241m=\u001b[39m\u001b[38;5;28;01mNone\u001b[39;00m, numbering\u001b[38;5;241m=\u001b[39m\u001b[38;5;28;01mFalse\u001b[39;00m, show_periodic\u001b[38;5;241m=\u001b[39m\u001b[38;5;28;01mFalse\u001b[39;00m, figsize\u001b[38;5;241m=\u001b[39m\u001b[38;5;28;01mNone\u001b[39;00m, legend\u001b[38;5;241m=\u001b[39m\u001b[38;5;28;01mFalse\u001b[39;00m, merge\u001b[38;5;241m=\u001b[39m\u001b[38;5;241m0.01\u001b[39m, tight_limits\u001b[38;5;241m=\u001b[39m\u001b[38;5;28;01mFalse\u001b[39;00m, show_cell\u001b[38;5;241m=\u001b[39m\u001b[38;5;28;01mNone\u001b[39;00m, \u001b[38;5;241m*\u001b[39m\u001b[38;5;241m*\u001b[39mkwargs)\n",
      "\u001b[1;31mNameError\u001b[0m: name 'kwargs' is not defined"
     ]
    }
   ],
   "source": [
    "abtem.visualize.visualizations.show_atoms(cutted_cell, plane='xy', ax=None, scale=0.75, title=None, numbering=False, show_periodic=False, figsize=None, legend=False, merge=0.01, tight_limits=False, show_cell=None, **kwargs)"
   ]
  },
  {
   "cell_type": "code",
   "execution_count": 270,
   "metadata": {},
   "outputs": [],
   "source": [
    "theta_max = 30\n",
    "theta_step = 10\n",
    "Theta_list = np.arange(0,theta_max+theta_step,theta_step)\n",
    "\n",
    "x_max = 3 #Å\n",
    "x_step = 1 #Å\n",
    "X_list = np.arange(0,x_max+x_step,x_step)\n",
    "y_max = 3 #Å\n",
    "y_step = 1 #Å\n",
    "Y_list = np.arange(0,y_max+y_step,y_step)\n",
    "\n",
    "interlayer_dist = 3\n",
    "\n",
    "ase_cell = srtio3\n",
    "repetitions = (10,10,1)\n",
    "\n"
   ]
  },
  {
   "cell_type": "code",
   "execution_count": null,
   "metadata": {},
   "outputs": [
    {
     "name": "stdout",
     "output_type": "stream",
     "text": [
      "[########################################] | 100% Completed | 11.84 s\n"
     ]
    },
    {
     "data": {
      "application/vnd.jupyter.widget-view+json": {
       "model_id": "d07db093f83d4222aa32671e551f43c5",
       "version_major": 2,
       "version_minor": 0
      },
      "text/plain": [
       "Y translation::   0%|          | 0/4 [00:00<?, ?it/s]"
      ]
     },
     "metadata": {},
     "output_type": "display_data"
    },
    {
     "name": "stdout",
     "output_type": "stream",
     "text": [
      "[########################################] | 100% Completed | 12.06 s\n",
      "[########################################] | 100% Completed | 12.07 s\n",
      "[########################################] | 100% Completed | 12.05 s\n",
      "[########################################] | 100% Completed | 11.42 s\n"
     ]
    },
    {
     "data": {
      "application/vnd.jupyter.widget-view+json": {
       "model_id": "1362eefbef01448caf4dfe35d60c0f7d",
       "version_major": 2,
       "version_minor": 0
      },
      "text/plain": [
       "X translation::   0%|          | 0/4 [00:00<?, ?it/s]"
      ]
     },
     "metadata": {},
     "output_type": "display_data"
    },
    {
     "data": {
      "application/vnd.jupyter.widget-view+json": {
       "model_id": "cfbdae76d7824a0897dcccf3dd02ca2f",
       "version_major": 2,
       "version_minor": 0
      },
      "text/plain": [
       "Y translation::   0%|          | 0/4 [00:00<?, ?it/s]"
      ]
     },
     "metadata": {},
     "output_type": "display_data"
    },
    {
     "name": "stdout",
     "output_type": "stream",
     "text": [
      "[########################################] | 100% Completed | 13.26 s\n",
      "[########################################] | 100% Completed | 12.86 s\n",
      "[########################################] | 100% Completed | 11.33 s\n",
      "[########################################] | 100% Completed | 12.44 s\n"
     ]
    },
    {
     "data": {
      "application/vnd.jupyter.widget-view+json": {
       "model_id": "264b84d8fe394812b63fc80522d9ad83",
       "version_major": 2,
       "version_minor": 0
      },
      "text/plain": [
       "Y translation::   0%|          | 0/4 [00:00<?, ?it/s]"
      ]
     },
     "metadata": {},
     "output_type": "display_data"
    },
    {
     "name": "stdout",
     "output_type": "stream",
     "text": [
      "[########################################] | 100% Completed | 13.07 s\n",
      "[########################################] | 100% Completed | 11.34 s\n",
      "[########################################] | 100% Completed | 10.43 s\n",
      "[########################################] | 100% Completed | 11.75 s\n"
     ]
    },
    {
     "data": {
      "application/vnd.jupyter.widget-view+json": {
       "model_id": "a2a03f7b26e64fd9a71604aaf33d1938",
       "version_major": 2,
       "version_minor": 0
      },
      "text/plain": [
       "Y translation::   0%|          | 0/4 [00:00<?, ?it/s]"
      ]
     },
     "metadata": {},
     "output_type": "display_data"
    },
    {
     "name": "stdout",
     "output_type": "stream",
     "text": [
      "[########################################] | 100% Completed | 12.16 s\n",
      "[########################################] | 100% Completed | 10.95 s\n",
      "[########################################] | 100% Completed | 11.36 s\n",
      "[########################################] | 100% Completed | 11.99 s\n"
     ]
    },
    {
     "data": {
      "application/vnd.jupyter.widget-view+json": {
       "model_id": "7471e1e7680b472ebfca66dc35140184",
       "version_major": 2,
       "version_minor": 0
      },
      "text/plain": [
       "Y translation::   0%|          | 0/4 [00:00<?, ?it/s]"
      ]
     },
     "metadata": {},
     "output_type": "display_data"
    },
    {
     "name": "stdout",
     "output_type": "stream",
     "text": [
      "[########################################] | 100% Completed | 11.07 s\n",
      "[########################################] | 100% Completed | 10.01 s\n",
      "[########################################] | 100% Completed | 11.22 s\n",
      "[########################################] | 100% Completed | 12.89 s\n"
     ]
    },
    {
     "data": {
      "application/vnd.jupyter.widget-view+json": {
       "model_id": "dacc9ff2ffe14266a5b6f18266879502",
       "version_major": 2,
       "version_minor": 0
      },
      "text/plain": [
       "X translation::   0%|          | 0/4 [00:00<?, ?it/s]"
      ]
     },
     "metadata": {},
     "output_type": "display_data"
    },
    {
     "data": {
      "application/vnd.jupyter.widget-view+json": {
       "model_id": "b101ec0dbd8b49fcb17bd2a48263a999",
       "version_major": 2,
       "version_minor": 0
      },
      "text/plain": [
       "Y translation::   0%|          | 0/4 [00:00<?, ?it/s]"
      ]
     },
     "metadata": {},
     "output_type": "display_data"
    },
    {
     "name": "stdout",
     "output_type": "stream",
     "text": [
      "[########################################] | 100% Completed | 9.97 ss\n",
      "[########################################] | 100% Completed | 11.12 s\n",
      "[########################################] | 100% Completed | 11.83 s\n",
      "[########################################] | 100% Completed | 10.10 s\n"
     ]
    },
    {
     "data": {
      "application/vnd.jupyter.widget-view+json": {
       "model_id": "9dba26e4bdfa40498ea9bf559da8fae9",
       "version_major": 2,
       "version_minor": 0
      },
      "text/plain": [
       "Y translation::   0%|          | 0/4 [00:00<?, ?it/s]"
      ]
     },
     "metadata": {},
     "output_type": "display_data"
    },
    {
     "name": "stdout",
     "output_type": "stream",
     "text": [
      "[########################################] | 100% Completed | 12.45 s\n",
      "[########################################] | 100% Completed | 12.24 s\n",
      "[########################################] | 100% Completed | 11.73 s\n",
      "[########################################] | 100% Completed | 11.63 s\n"
     ]
    },
    {
     "data": {
      "application/vnd.jupyter.widget-view+json": {
       "model_id": "ff5087ac356a4d40a3a00f7c32d62c50",
       "version_major": 2,
       "version_minor": 0
      },
      "text/plain": [
       "Y translation::   0%|          | 0/4 [00:00<?, ?it/s]"
      ]
     },
     "metadata": {},
     "output_type": "display_data"
    },
    {
     "name": "stdout",
     "output_type": "stream",
     "text": [
      "[########################################] | 100% Completed | 11.94 s\n",
      "[########################################] | 100% Completed | 12.38 s\n",
      "[########################################] | 100% Completed | 11.43 s\n",
      "[########################################] | 100% Completed | 10.11 s\n"
     ]
    },
    {
     "data": {
      "application/vnd.jupyter.widget-view+json": {
       "model_id": "eb2c9e716b18479385759c6a239113ad",
       "version_major": 2,
       "version_minor": 0
      },
      "text/plain": [
       "Y translation::   0%|          | 0/4 [00:00<?, ?it/s]"
      ]
     },
     "metadata": {},
     "output_type": "display_data"
    },
    {
     "name": "stdout",
     "output_type": "stream",
     "text": [
      "[########################################] | 100% Completed | 11.14 s\n",
      "[########################################] | 100% Completed | 11.65 s\n",
      "[########################################] | 100% Completed | 11.04 s\n",
      "[########################################] | 100% Completed | 10.73 s\n"
     ]
    }
   ],
   "source": [
    "\n",
    "np_set, metadata = gen_rotstack(ase_cell=ase_cell, Theta=Theta_list, repetitions=repetitions, interlayer_dist=interlayer_dist, X=X_list,Y=Y_list, save_exitwave = True)"
   ]
  },
  {
   "cell_type": "code",
   "execution_count": 226,
   "metadata": {},
   "outputs": [
    {
     "name": "stderr",
     "output_type": "stream",
     "text": [
      "UsageError: Line magic function `%matplotlib_inline` not found.\n"
     ]
    }
   ],
   "source": [
    "%matplotlib_inline"
   ]
  },
  {
   "cell_type": "code",
   "execution_count": 122,
   "metadata": {},
   "outputs": [],
   "source": [
    "%matplotlib widget"
   ]
  },
  {
   "cell_type": "code",
   "execution_count": 124,
   "metadata": {},
   "outputs": [],
   "source": [
    "%matplotlib ipympl"
   ]
  },
  {
   "cell_type": "code",
   "execution_count": 228,
   "metadata": {},
   "outputs": [],
   "source": [
    "Ab_pre_stack = np.reshape(np.empty(64),(4,4,4))\n",
    "Ab_pre_stack= Ab_pre_stack.tolist()\n",
    "counter = 0\n",
    "for k, Theta in enumerate(Ab_pre_stack):\n",
    "    for l, X in enumerate(Theta):\n",
    "        for j, Y in enumerate(X):\n",
    "            Ab_pre_stack[k][l][j] = metadata['Exit waves'][counter]\n",
    "            counter +=1"
   ]
  },
  {
   "cell_type": "code",
   "execution_count": 36,
   "metadata": {},
   "outputs": [],
   "source": [
    "Inner_meta  = \"y-axis offset = \"\n",
    "Mid_meta = \"x-axis offset = \"\n",
    "Outer_meta = \"rotation offset = \"\n",
    "\n",
    "Y_meta_list = list(map(str, Y_list))\n",
    "for i , lab in enumerate(Y_meta_list):\n",
    "    Y_meta_list[i] = Inner_meta + lab + \"Å\"\n",
    "\n",
    "X_meta_list = list(map(str, X_list))\n",
    "for i , lab in enumerate(X_meta_list):\n",
    "    X_meta_list[i] = Mid_meta + lab + \"Å\"\n",
    "\n",
    "Theta_meta_list = list(map(str, Theta_list))\n",
    "for i , lab in enumerate(Theta_meta_list):\n",
    "    Theta_meta_list[i] = Outer_meta + lab + \"°\"\n"
   ]
  },
  {
   "cell_type": "code",
   "execution_count": null,
   "metadata": {},
   "outputs": [],
   "source": [
    "\n",
    "\n",
    "\n",
    "\n",
    "\n",
    "\n",
    "L = []\n",
    "for i, Theta in enumerate(Theta_load):\n",
    "    s = []\n",
    "    S = []\n",
    "    for j, X in enumerate(Theta):\n",
    "        n = len(X)\n",
    "        s = abtem.stack(X , Y_meta_list)\n",
    "        S.append(s)\n",
    "    n = len(Theta)\n",
    "    l = abtem.stack(S, X_meta_list)\n",
    "    L.append(l)\n",
    "n = len(L)    \n",
    "Theta_ = abtem.stack(L, Theta_meta_list)\n"
   ]
  },
  {
   "cell_type": "code",
   "execution_count": 47,
   "metadata": {},
   "outputs": [
    {
     "data": {
      "text/plain": [
       "'rotation offset = x-axis offset = y-axis offset = '"
      ]
     },
     "execution_count": 47,
     "metadata": {},
     "output_type": "execute_result"
    }
   ],
   "source": [
    "np.shape(Theta_)\n",
    "axis_meta = Outer_meta + Mid_meta + Inner_meta\n",
    "axis_meta"
   ]
  },
  {
   "cell_type": "code",
   "execution_count": 48,
   "metadata": {},
   "outputs": [
    {
     "data": {
      "text/plain": [
       "{'energy': 300000.0, 'normalization': 'values', 'reciprocal_space': False}"
      ]
     },
     "execution_count": 48,
     "metadata": {},
     "output_type": "execute_result"
    }
   ],
   "source": [
    "Theta_.metadata"
   ]
  },
  {
   "cell_type": "code",
   "execution_count": 49,
   "metadata": {},
   "outputs": [
    {
     "data": {
      "text/plain": [
       "[<abtem.core.axes.OrdinalAxis at 0x139277b5130>,\n",
       " <abtem.core.axes.OrdinalAxis at 0x139291d3680>,\n",
       " <abtem.core.axes.OrdinalAxis at 0x13929b57320>]"
      ]
     },
     "execution_count": 49,
     "metadata": {},
     "output_type": "execute_result"
    }
   ],
   "source": [
    "Theta_.ensemble_axes_metadata"
   ]
  },
  {
   "cell_type": "code",
   "execution_count": 50,
   "metadata": {},
   "outputs": [
    {
     "data": {
      "text/plain": [
       "type           label    coordinates\n",
       "-------------  -------  -------------------\n",
       "OrdinalAxis             -\n",
       "OrdinalAxis             -\n",
       "OrdinalAxis             -\n",
       "RealSpaceAxis  x [Å]    0.00 0.08 ... 43.09\n",
       "RealSpaceAxis  y [Å]    0.00 0.08 ... 43.09"
      ]
     },
     "execution_count": 50,
     "metadata": {},
     "output_type": "execute_result"
    }
   ],
   "source": [
    "Theta_.axes_metadata"
   ]
  },
  {
   "cell_type": "code",
   "execution_count": 51,
   "metadata": {},
   "outputs": [
    {
     "name": "stdout",
     "output_type": "stream",
     "text": [
      "[########################################] | 100% Completed | 328.15 ms\n"
     ]
    }
   ],
   "source": [
    "im = Theta_.compute().to_images(convert_complex=False)"
   ]
  },
  {
   "cell_type": "code",
   "execution_count": 266,
   "metadata": {},
   "outputs": [
    {
     "data": {
      "application/vnd.jupyter.widget-view+json": {
       "model_id": "2365354b896e49be837777af0b13e06d",
       "version_major": 2,
       "version_minor": 0
      },
      "text/plain": [
       "ImageGUI(children=(VBox(children=(SelectionSlider(continuous_update=False, options=('rotation offset = 0°', 'r…"
      ]
     },
     "metadata": {},
     "output_type": "display_data"
    },
    {
     "data": {
      "text/plain": [
       "<abtem.visualize.visualizations.Visualization at 0x13928ecaf00>"
      ]
     },
     "execution_count": 266,
     "metadata": {},
     "output_type": "execute_result"
    }
   ],
   "source": [
    "Theta_.diffraction_patterns().show(interact = True, cbar = True )"
   ]
  },
  {
   "cell_type": "code",
   "execution_count": 120,
   "metadata": {},
   "outputs": [],
   "source": [
    "def save_outcome (abtem_stack:abtem.waves.Waves, filename:str):\n",
    "    \"Function that saves simulation outcomes\"\n",
    "    os.makedirs('data', exist_ok=True)\n",
    "    path = os.getcwd()\n",
    "    path_to_data = os.path.join(path, 'data')\n",
    "    abtem_stack.to_zarr(os.path.join(path_to_data, filename))\n",
    "    print(f'File has been saved to disk at directory:\\n {os.path.join(path_to_data, filename)}')"
   ]
  },
  {
   "cell_type": "code",
   "execution_count": 121,
   "metadata": {},
   "outputs": [
    {
     "name": "stdout",
     "output_type": "stream",
     "text": [
      "[########################################] | 100% Completed | 548.51 ms\n",
      "File has been saved to disk at directory:\n",
      " c:\\Users\\Bruger\\Desktop\\Python\\Moire\\moire_visualization\\data\\Stack_of_stacks\n"
     ]
    }
   ],
   "source": [
    "save_outcome(abtem_stack=Theta_load, filename = \"Stack_of_stacks\")\n",
    "\n",
    "\n",
    "#Theta_.to_zarr(\"data/Stack_of_stacks\")"
   ]
  },
  {
   "cell_type": "code",
   "execution_count": 73,
   "metadata": {},
   "outputs": [
    {
     "data": {
      "text/plain": [
       "type           label    coordinates\n",
       "-------------  -------  -------------------\n",
       "OrdinalAxis             -\n",
       "OrdinalAxis             -\n",
       "OrdinalAxis             -\n",
       "RealSpaceAxis  x [Å]    0.00 0.08 ... 43.09\n",
       "RealSpaceAxis  y [Å]    0.00 0.08 ... 43.09"
      ]
     },
     "execution_count": 73,
     "metadata": {},
     "output_type": "execute_result"
    }
   ],
   "source": [
    "Theta_load = abtem.array.from_zarr(\"Stack_of_stacks\")\n",
    "np.shape(Theta_load)\n",
    "Theta_load.axes_metadata"
   ]
  },
  {
   "cell_type": "code",
   "execution_count": 152,
   "metadata": {},
   "outputs": [
    {
     "name": "stdout",
     "output_type": "stream",
     "text": [
      "[########################################] | 100% Completed | 229.78 ms\n"
     ]
    },
    {
     "data": {
      "application/vnd.jupyter.widget-view+json": {
       "model_id": "369c8c73f3654682919f4bf3ba381648",
       "version_major": 2,
       "version_minor": 0
      },
      "text/plain": [
       "ImageGUI(children=(VBox(children=(SelectionSlider(continuous_update=False, options=('rotation offset = 0°', 'r…"
      ]
     },
     "metadata": {},
     "output_type": "display_data"
    }
   ],
   "source": [
    "Animation_intensity = Theta_load.show(interact = True, cbar = True ); "
   ]
  },
  {
   "cell_type": "code",
   "execution_count": 153,
   "metadata": {},
   "outputs": [
    {
     "name": "stdout",
     "output_type": "stream",
     "text": [
      "[########################################] | 100% Completed | 557.29 ms\n"
     ]
    },
    {
     "data": {
      "application/vnd.jupyter.widget-view+json": {
       "model_id": "dc998072986b4d01b68adbbb240de206",
       "version_major": 2,
       "version_minor": 0
      },
      "text/plain": [
       "ScatterGUI(children=(VBox(children=(SelectionSlider(continuous_update=False, options=('rotation offset = 0°', …"
      ]
     },
     "metadata": {},
     "output_type": "display_data"
    }
   ],
   "source": [
    "Animation_dif_indexspot = Theta_load.diffraction_patterns().index_diffraction_spots(cell=srtio3.cell).show(scale=0.5, interact = True, cbar = True );"
   ]
  },
  {
   "cell_type": "code",
   "execution_count": 154,
   "metadata": {},
   "outputs": [
    {
     "name": "stdout",
     "output_type": "stream",
     "text": [
      "[########################################] | 100% Completed | 521.75 ms\n"
     ]
    },
    {
     "data": {
      "application/vnd.jupyter.widget-view+json": {
       "model_id": "e5351ffa2e9d4aafab6721b16936dcf4",
       "version_major": 2,
       "version_minor": 0
      },
      "text/plain": [
       "ImageGUI(children=(VBox(children=(SelectionSlider(continuous_update=False, options=('rotation offset = 0°', 'r…"
      ]
     },
     "metadata": {},
     "output_type": "display_data"
    }
   ],
   "source": [
    "Animation_dif = Theta_load.diffraction_patterns().show(interact = True, cbar = True );"
   ]
  },
  {
   "cell_type": "code",
   "execution_count": 164,
   "metadata": {},
   "outputs": [
    {
     "name": "stdout",
     "output_type": "stream",
     "text": [
      "[                                        ] | 0% Completed | 760.80 us"
     ]
    },
    {
     "name": "stdout",
     "output_type": "stream",
     "text": [
      "[########################################] | 100% Completed | 227.16 ms\n"
     ]
    },
    {
     "data": {
      "application/vnd.jupyter.widget-view+json": {
       "model_id": "f77505801d0346878667189efcb2f43a",
       "version_major": 2,
       "version_minor": 0
      },
      "text/plain": [
       "ImageGUI(children=(VBox(children=(SelectionSlider(continuous_update=False, options=('rotation offset = 0°', 'r…"
      ]
     },
     "metadata": {},
     "output_type": "display_data"
    },
    {
     "name": "stdout",
     "output_type": "stream",
     "text": [
      "[########################################] | 100% Completed | 811.25 ms\n"
     ]
    },
    {
     "data": {
      "application/vnd.jupyter.widget-view+json": {
       "model_id": "fd1166c0560f45f888ff7303aee3d11c",
       "version_major": 2,
       "version_minor": 0
      },
      "text/plain": [
       "ImageGUI(children=(VBox(children=(SelectionSlider(continuous_update=False, options=('rotation offset = 0°', 'r…"
      ]
     },
     "metadata": {},
     "output_type": "display_data"
    }
   ],
   "source": [
    "Theta_load.show(interact = True, cbar = True ); \n",
    "Theta_load.diffraction_patterns().show(interact = True, cbar = True );"
   ]
  },
  {
   "cell_type": "code",
   "execution_count": 163,
   "metadata": {},
   "outputs": [
    {
     "data": {
      "text/plain": [
       "<bound method Visualization.get_figure of <abtem.visualize.visualizations.Visualization object at 0x000001AE46433BF0>>"
      ]
     },
     "execution_count": 163,
     "metadata": {},
     "output_type": "execute_result"
    }
   ],
   "source": [
    "fig = Animation_dif.get_figure\n",
    "fig"
   ]
  },
  {
   "cell_type": "code",
   "execution_count": null,
   "metadata": {},
   "outputs": [],
   "source": [
    "s00 = abtem.stack(Ab_pre_stack[0][0])\n",
    "s01 =abtem.stack(Ab_pre_stack[0][1])\n",
    "s02 =abtem.stack(Ab_pre_stack[0][2])\n",
    "s03 =abtem.stack(Ab_pre_stack[0][3])\n",
    "l0 = [s00,s01,s02,s03]\n"
   ]
  },
  {
   "cell_type": "code",
   "execution_count": 72,
   "metadata": {},
   "outputs": [],
   "source": [
    "XY_ = abtem.stack(l0)"
   ]
  },
  {
   "cell_type": "code",
   "execution_count": 93,
   "metadata": {},
   "outputs": [
    {
     "data": {
      "application/vnd.jupyter.widget-view+json": {
       "model_id": "1720b66f3d764cd3af14856e615ad0a1",
       "version_major": 2,
       "version_minor": 0
      },
      "text/plain": [
       "ImageGUI(children=(VBox(children=(SelectionSlider(continuous_update=False, description='unknown', options=(0, …"
      ]
     },
     "metadata": {},
     "output_type": "display_data"
    },
    {
     "data": {
      "text/plain": [
       "<abtem.visualize.visualizations.Visualization at 0x23e702276e0>"
      ]
     },
     "execution_count": 93,
     "metadata": {},
     "output_type": "execute_result"
    }
   ],
   "source": [
    "XY_.show(interact = True, cbar = True )"
   ]
  },
  {
   "cell_type": "code",
   "execution_count": 70,
   "metadata": {},
   "outputs": [
    {
     "data": {
      "text/plain": [
       "<abtem.waves.Waves at 0x23e71b89130>"
      ]
     },
     "execution_count": 70,
     "metadata": {},
     "output_type": "execute_result"
    }
   ],
   "source": [
    "abtem.stack(l0)"
   ]
  },
  {
   "cell_type": "code",
   "execution_count": null,
   "metadata": {},
   "outputs": [
    {
     "ename": "AttributeError",
     "evalue": "'list' object has no attribute 'ensemble_shape'",
     "output_type": "error",
     "traceback": [
      "\u001b[1;31m---------------------------------------------------------------------------\u001b[0m",
      "\u001b[1;31mAttributeError\u001b[0m                            Traceback (most recent call last)",
      "Cell \u001b[1;32mIn[63], line 1\u001b[0m\n\u001b[1;32m----> 1\u001b[0m ab_stack \u001b[38;5;241m=\u001b[39m abtem\u001b[38;5;241m.\u001b[39mstack(Ab_pre_stack)\n",
      "File \u001b[1;32mc:\\Users\\Bruger\\anaconda3\\envs\\moire_course\\Lib\\site-packages\\abtem\\array.py:1672\u001b[0m, in \u001b[0;36mstack\u001b[1;34m(arrays, axis_metadata, axis)\u001b[0m\n\u001b[0;32m   1650\u001b[0m \u001b[38;5;28;01mdef\u001b[39;00m \u001b[38;5;21mstack\u001b[39m(\n\u001b[0;32m   1651\u001b[0m     arrays: Sequence[ArrayObject],\n\u001b[0;32m   1652\u001b[0m     axis_metadata: AxisMetadata \u001b[38;5;241m|\u001b[39m Sequence[\u001b[38;5;28mstr\u001b[39m] \u001b[38;5;241m=\u001b[39m \u001b[38;5;28;01mNone\u001b[39;00m,\n\u001b[0;32m   1653\u001b[0m     axis: \u001b[38;5;28mint\u001b[39m \u001b[38;5;241m=\u001b[39m \u001b[38;5;241m0\u001b[39m,\n\u001b[0;32m   1654\u001b[0m ) \u001b[38;5;241m-\u001b[39m\u001b[38;5;241m>\u001b[39m T:\n\u001b[0;32m   1655\u001b[0m \u001b[38;5;250m    \u001b[39m\u001b[38;5;124;03m\"\"\"\u001b[39;00m\n\u001b[0;32m   1656\u001b[0m \u001b[38;5;124;03m    Join multiple array objects (e.g. Waves and BaseMeasurement) along a new ensemble axis.\u001b[39;00m\n\u001b[0;32m   1657\u001b[0m \n\u001b[1;32m   (...)\u001b[0m\n\u001b[0;32m   1669\u001b[0m \u001b[38;5;124;03m        The stacked array object of the same type as the input.\u001b[39;00m\n\u001b[0;32m   1670\u001b[0m \u001b[38;5;124;03m    \"\"\"\u001b[39;00m\n\u001b[1;32m-> 1672\u001b[0m     \u001b[38;5;28;01massert\u001b[39;00m axis \u001b[38;5;241m<\u001b[39m\u001b[38;5;241m=\u001b[39m \u001b[38;5;28mlen\u001b[39m(arrays[\u001b[38;5;241m0\u001b[39m]\u001b[38;5;241m.\u001b[39mensemble_shape)\n\u001b[0;32m   1673\u001b[0m     \u001b[38;5;28;01massert\u001b[39;00m axis \u001b[38;5;241m>\u001b[39m\u001b[38;5;241m=\u001b[39m \u001b[38;5;241m0\u001b[39m\n\u001b[0;32m   1675\u001b[0m     \u001b[38;5;28;01mif\u001b[39;00m axis_metadata \u001b[38;5;129;01mis\u001b[39;00m \u001b[38;5;28;01mNone\u001b[39;00m:\n",
      "\u001b[1;31mAttributeError\u001b[0m: 'list' object has no attribute 'ensemble_shape'"
     ]
    }
   ],
   "source": [
    "\n",
    "ab_stack = abtem.stack(Ab_pre_stack)"
   ]
  },
  {
   "cell_type": "code",
   "execution_count": null,
   "metadata": {},
   "outputs": [
    {
     "ename": "AttributeError",
     "evalue": "'list' object has no attribute 'ensemble_shape'",
     "output_type": "error",
     "traceback": [
      "\u001b[1;31m---------------------------------------------------------------------------\u001b[0m",
      "\u001b[1;31mAttributeError\u001b[0m                            Traceback (most recent call last)",
      "Cell \u001b[1;32mIn[62], line 1\u001b[0m\n\u001b[1;32m----> 1\u001b[0m ab_stack \u001b[38;5;241m=\u001b[39m abtem\u001b[38;5;241m.\u001b[39mstack(Ab_pre_stack)\n\u001b[0;32m      2\u001b[0m ab_stack\u001b[38;5;241m.\u001b[39mshow(interact\u001b[38;5;241m=\u001b[39m\u001b[38;5;28;01mTrue\u001b[39;00m, cbar\u001b[38;5;241m=\u001b[39m\u001b[38;5;28;01mTrue\u001b[39;00m)\n",
      "File \u001b[1;32mc:\\Users\\Bruger\\anaconda3\\envs\\moire_course\\Lib\\site-packages\\abtem\\array.py:1672\u001b[0m, in \u001b[0;36mstack\u001b[1;34m(arrays, axis_metadata, axis)\u001b[0m\n\u001b[0;32m   1650\u001b[0m \u001b[38;5;28;01mdef\u001b[39;00m \u001b[38;5;21mstack\u001b[39m(\n\u001b[0;32m   1651\u001b[0m     arrays: Sequence[ArrayObject],\n\u001b[0;32m   1652\u001b[0m     axis_metadata: AxisMetadata \u001b[38;5;241m|\u001b[39m Sequence[\u001b[38;5;28mstr\u001b[39m] \u001b[38;5;241m=\u001b[39m \u001b[38;5;28;01mNone\u001b[39;00m,\n\u001b[0;32m   1653\u001b[0m     axis: \u001b[38;5;28mint\u001b[39m \u001b[38;5;241m=\u001b[39m \u001b[38;5;241m0\u001b[39m,\n\u001b[0;32m   1654\u001b[0m ) \u001b[38;5;241m-\u001b[39m\u001b[38;5;241m>\u001b[39m T:\n\u001b[0;32m   1655\u001b[0m \u001b[38;5;250m    \u001b[39m\u001b[38;5;124;03m\"\"\"\u001b[39;00m\n\u001b[0;32m   1656\u001b[0m \u001b[38;5;124;03m    Join multiple array objects (e.g. Waves and BaseMeasurement) along a new ensemble axis.\u001b[39;00m\n\u001b[0;32m   1657\u001b[0m \n\u001b[1;32m   (...)\u001b[0m\n\u001b[0;32m   1669\u001b[0m \u001b[38;5;124;03m        The stacked array object of the same type as the input.\u001b[39;00m\n\u001b[0;32m   1670\u001b[0m \u001b[38;5;124;03m    \"\"\"\u001b[39;00m\n\u001b[1;32m-> 1672\u001b[0m     \u001b[38;5;28;01massert\u001b[39;00m axis \u001b[38;5;241m<\u001b[39m\u001b[38;5;241m=\u001b[39m \u001b[38;5;28mlen\u001b[39m(arrays[\u001b[38;5;241m0\u001b[39m]\u001b[38;5;241m.\u001b[39mensemble_shape)\n\u001b[0;32m   1673\u001b[0m     \u001b[38;5;28;01massert\u001b[39;00m axis \u001b[38;5;241m>\u001b[39m\u001b[38;5;241m=\u001b[39m \u001b[38;5;241m0\u001b[39m\n\u001b[0;32m   1675\u001b[0m     \u001b[38;5;28;01mif\u001b[39;00m axis_metadata \u001b[38;5;129;01mis\u001b[39;00m \u001b[38;5;28;01mNone\u001b[39;00m:\n",
      "\u001b[1;31mAttributeError\u001b[0m: 'list' object has no attribute 'ensemble_shape'"
     ]
    }
   ],
   "source": [
    "ab_stack = abtem.stack(thte_0_20['Exit waves'])\n",
    "ab_stack.show(interact=True, cbar=True)"
   ]
  },
  {
   "cell_type": "code",
   "execution_count": 23,
   "metadata": {},
   "outputs": [],
   "source": [
    "def image_files(abtem_dict):\n",
    "    #getting the exit wave data\n",
    "    exit_waves = abtem_dict['Exit waves']\n",
    "    \n",
    "    #getting the image intensities and smapling parameters for reconstruciton\n",
    "    intensity_real = []\n",
    "    dimensions_real = []\n",
    "\n",
    "    intensity_difract = []\n",
    "    sampling_difract = []\n",
    "\n",
    "\n",
    "    for inspection_wave in exit_waves:\n",
    "        #getting real space parameters\n",
    "        intensity_real.append(inspection_wave.intensity().array)\n",
    "        dimensions_real.append(inspection_wave.extent)\n",
    "        #getting informaiton from diffraiction plane / fourier space\n",
    "        intensity_difract.append(inspection_wave.diffraction_patterns().array)\n",
    "        sampling_difract.append(inspection_wave.diffraction_patterns().sampling)\n",
    "\n",
    "    return {'Rotation': abtem_dict['Rotation'], 'Intensity_real': intensity_real,\n",
    "            'dimensions_real': dimensions_real, \n",
    "            'Intensity_difraction': intensity_difract, \n",
    "            'Difraction sampling': sampling_difract\n",
    "            }\n",
    "        \n"
   ]
  },
  {
   "cell_type": "code",
   "execution_count": 24,
   "metadata": {},
   "outputs": [
    {
     "data": {
      "text/plain": [
       "{'Rotation': array([ 0,  1,  2,  3,  4,  5,  6,  7,  8,  9, 10, 11, 12, 13, 14, 15, 16,\n",
       "        17, 18, 19]),\n",
       " 'ASE structure': [Atoms(symbols='O1200Sr400Ti400', pbc=False, cell=[76.297675545, 76.297675545, 9.91270131]),\n",
       "  Atoms(symbols='O1200Sr400Ti400', pbc=False, cell=[76.297675545, 76.297675545, 9.91270131]),\n",
       "  Atoms(symbols='O1200Sr400Ti400', pbc=False, cell=[76.297675545, 76.297675545, 9.91270131]),\n",
       "  Atoms(symbols='O1200Sr400Ti400', pbc=False, cell=[76.297675545, 76.297675545, 9.91270131]),\n",
       "  Atoms(symbols='O1200Sr400Ti400', pbc=False, cell=[76.297675545, 76.297675545, 9.91270131]),\n",
       "  Atoms(symbols='O1200Sr400Ti400', pbc=False, cell=[76.297675545, 76.297675545, 9.91270131]),\n",
       "  Atoms(symbols='O1200Sr400Ti400', pbc=False, cell=[76.297675545, 76.297675545, 9.91270131]),\n",
       "  Atoms(symbols='O1200Sr400Ti400', pbc=False, cell=[76.297675545, 76.297675545, 9.91270131]),\n",
       "  Atoms(symbols='O1200Sr400Ti400', pbc=False, cell=[76.297675545, 76.297675545, 9.91270131]),\n",
       "  Atoms(symbols='O1200Sr400Ti400', pbc=False, cell=[76.297675545, 76.297675545, 9.91270131]),\n",
       "  Atoms(symbols='O1200Sr400Ti400', pbc=False, cell=[76.297675545, 76.297675545, 9.91270131]),\n",
       "  Atoms(symbols='O1200Sr400Ti400', pbc=False, cell=[76.297675545, 76.297675545, 9.91270131]),\n",
       "  Atoms(symbols='O1200Sr400Ti400', pbc=False, cell=[76.297675545, 76.297675545, 9.91270131]),\n",
       "  Atoms(symbols='O1200Sr400Ti400', pbc=False, cell=[76.297675545, 76.297675545, 9.91270131]),\n",
       "  Atoms(symbols='O1200Sr400Ti400', pbc=False, cell=[76.297675545, 76.297675545, 9.91270131]),\n",
       "  Atoms(symbols='O1200Sr400Ti400', pbc=False, cell=[76.297675545, 76.297675545, 9.91270131]),\n",
       "  Atoms(symbols='O1200Sr400Ti400', pbc=False, cell=[76.297675545, 76.297675545, 9.91270131]),\n",
       "  Atoms(symbols='O1200Sr400Ti400', pbc=False, cell=[76.297675545, 76.297675545, 9.91270131]),\n",
       "  Atoms(symbols='O1200Sr400Ti400', pbc=False, cell=[76.297675545, 76.297675545, 9.91270131]),\n",
       "  Atoms(symbols='O1200Sr400Ti400', pbc=False, cell=[76.297675545, 76.297675545, 9.91270131])],\n",
       " 'Potential': [<abtem.potentials.iam.Potential at 0x23e71a19df0>,\n",
       "  <abtem.potentials.iam.Potential at 0x23e71d69c70>,\n",
       "  <abtem.potentials.iam.Potential at 0x23e71ff8e30>,\n",
       "  <abtem.potentials.iam.Potential at 0x23e719f59a0>,\n",
       "  <abtem.potentials.iam.Potential at 0x23e71a5b4d0>,\n",
       "  <abtem.potentials.iam.Potential at 0x23e719f7710>,\n",
       "  <abtem.potentials.iam.Potential at 0x23e719d6ae0>,\n",
       "  <abtem.potentials.iam.Potential at 0x23e71a5b500>,\n",
       "  <abtem.potentials.iam.Potential at 0x23e719d5fd0>,\n",
       "  <abtem.potentials.iam.Potential at 0x23e719e6150>,\n",
       "  <abtem.potentials.iam.Potential at 0x23e719e5580>,\n",
       "  <abtem.potentials.iam.Potential at 0x23e6e88ee70>,\n",
       "  <abtem.potentials.iam.Potential at 0x23e6e8c7fe0>,\n",
       "  <abtem.potentials.iam.Potential at 0x23e6e8b6a20>,\n",
       "  <abtem.potentials.iam.Potential at 0x23e719e4650>,\n",
       "  <abtem.potentials.iam.Potential at 0x23e6e929760>,\n",
       "  <abtem.potentials.iam.Potential at 0x23e6e8c5b50>,\n",
       "  <abtem.potentials.iam.Potential at 0x23e6e86a270>,\n",
       "  <abtem.potentials.iam.Potential at 0x23e6e929400>,\n",
       "  <abtem.potentials.iam.Potential at 0x23e6e8687d0>],\n",
       " 'Exit waves': [<abtem.waves.Waves at 0x23e6c586c00>,\n",
       "  <abtem.waves.Waves at 0x23e71a19d90>,\n",
       "  <abtem.waves.Waves at 0x23e719f6ff0>,\n",
       "  <abtem.waves.Waves at 0x23e6e82ae10>,\n",
       "  <abtem.waves.Waves at 0x23e71ff80b0>,\n",
       "  <abtem.waves.Waves at 0x23e719e4fe0>,\n",
       "  <abtem.waves.Waves at 0x23e719f4110>,\n",
       "  <abtem.waves.Waves at 0x23e719d53a0>,\n",
       "  <abtem.waves.Waves at 0x23e6e88d9d0>,\n",
       "  <abtem.waves.Waves at 0x23e71a191f0>,\n",
       "  <abtem.waves.Waves at 0x23e71d661b0>,\n",
       "  <abtem.waves.Waves at 0x23e71a58740>,\n",
       "  <abtem.waves.Waves at 0x23e6e86a930>,\n",
       "  <abtem.waves.Waves at 0x23e6e8c4ad0>,\n",
       "  <abtem.waves.Waves at 0x23e719e5610>,\n",
       "  <abtem.waves.Waves at 0x23e6e8b48f0>,\n",
       "  <abtem.waves.Waves at 0x23e6e929460>,\n",
       "  <abtem.waves.Waves at 0x23e6e8c4e90>,\n",
       "  <abtem.waves.Waves at 0x23e6e92b770>,\n",
       "  <abtem.waves.Waves at 0x23e71a59880>]}"
      ]
     },
     "execution_count": 24,
     "metadata": {},
     "output_type": "execute_result"
    }
   ],
   "source": [
    "inspection_waves = image_files(thte_0_20)\n",
    "thte_0_20\n"
   ]
  },
  {
   "cell_type": "code",
   "execution_count": 26,
   "metadata": {},
   "outputs": [
    {
     "data": {
      "text/plain": [
       "<abtem.visualize.visualizations.Visualization at 0x23e00460440>"
      ]
     },
     "execution_count": 26,
     "metadata": {},
     "output_type": "execute_result"
    },
    {
     "data": {
      "application/vnd.jupyter.widget-view+json": {
       "model_id": "b3f22ea530ac4725b5b6237bace4e449",
       "version_major": 2,
       "version_minor": 0
      },
      "image/png": "[encoded data removed]",
      "text/html": [
       "\n",
       "            <div style=\"display: inline-block;\">\n",
       "                <div class=\"jupyter-widgets widget-label\" style=\"text-align: center;\">\n",
       "                    Figure\n",
       "                </div>\n",
       "                <img src='data:image/png;base64,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' width=640.0/>\n",
       "            </div>\n",
       "        "
      ],
      "text/plain": [
       "Canvas(header_visible=False, toolbar=Toolbar(toolitems=[('Home', 'Reset original view', 'home', 'home'), ('Bac…"
      ]
     },
     "metadata": {},
     "output_type": "display_data"
    }
   ],
   "source": [
    "#getting information from exit wave in real space\n",
    "inspection_wave = thte_0_20['Exit waves'][-1]\n",
    "dimensions = inspection_wave.extent\n",
    "image = inspection_wave.intensity().array\n",
    "inspection_wave.show()"
   ]
  },
  {
   "cell_type": "code",
   "execution_count": 32,
   "metadata": {},
   "outputs": [],
   "source": [
    "#getting informaiton from diffraiction plane / fourier space\n",
    "difraction_image = inspection_wave.diffraction_patterns().array\n",
    "difraciton_sampling = inspection_wave.diffraction_patterns().sampling\n"
   ]
  },
  {
   "cell_type": "code",
   "execution_count": 33,
   "metadata": {},
   "outputs": [
    {
     "data": {
      "text/plain": [
       "(76.297675545, 76.297675545)"
      ]
     },
     "execution_count": 33,
     "metadata": {},
     "output_type": "execute_result"
    }
   ],
   "source": [
    "dimensions"
   ]
  },
  {
   "cell_type": "code",
   "execution_count": 35,
   "metadata": {},
   "outputs": [
    {
     "data": {
      "text/plain": [
       "dict_keys(['Rotation', 'ASE structure', 'Potential', 'Exit waves'])"
      ]
     },
     "execution_count": 35,
     "metadata": {},
     "output_type": "execute_result"
    }
   ],
   "source": [
    "thte_0_20.keys()"
   ]
  },
  {
   "cell_type": "code",
   "execution_count": 36,
   "metadata": {},
   "outputs": [],
   "source": [
    "image_rot_dict = image_files(thte_0_20)"
   ]
  },
  {
   "cell_type": "code",
   "execution_count": 37,
   "metadata": {},
   "outputs": [],
   "source": [
    "filename = 'srtio3_theta20_rep_10'\n",
    "path = os.getcwd()+'/data/' + filename\n"
   ]
  },
  {
   "cell_type": "code",
   "execution_count": 42,
   "metadata": {},
   "outputs": [
    {
     "name": "stdout",
     "output_type": "stream",
     "text": [
      "(21,)\n",
      "(21, 1024, 1024)\n",
      "(21, 2)\n",
      "(21, 683, 683)\n",
      "(21, 2)\n"
     ]
    }
   ],
   "source": [
    "for i in image_rot_dict:\n",
    "    print(np.shape(image_rot_dict[i]))"
   ]
  },
  {
   "cell_type": "code",
   "execution_count": 38,
   "metadata": {},
   "outputs": [],
   "source": [
    "np.savez(path, image_rot_dict['Rotation'], image_rot_dict['Intensity_real'],\n",
    "        image_rot_dict['dimensions_real'], \n",
    "        image_rot_dict['Intensity_difraction'],\n",
    "        image_rot_dict['Difraction sampling'],  allow_pickle=True,\n",
    "        )\n"
   ]
  },
  {
   "cell_type": "code",
   "execution_count": null,
   "metadata": {},
   "outputs": [],
   "source": [
    "data = np.array(image_rot_dict['Intensity_real'])"
   ]
  },
  {
   "cell_type": "code",
   "execution_count": 79,
   "metadata": {},
   "outputs": [
    {
     "name": "stdout",
     "output_type": "stream",
     "text": [
      "[########################################] | 100% Completed | 107.31 ms\n"
     ]
    },
    {
     "data": {
      "text/plain": [
       "<abtem.visualize.visualizations.Visualization at 0x1a939505eb0>"
      ]
     },
     "execution_count": 79,
     "metadata": {},
     "output_type": "execute_result"
    },
    {
     "data": {
      "image/png": "[encoded data removed]",
      "text/plain": [
       "<Figure size 640x480 with 1 Axes>"
      ]
     },
     "metadata": {},
     "output_type": "display_data"
    }
   ],
   "source": [
    "zar_tester = abtem.array.from_zarr(filename)\n",
    "zar_tester.show()"
   ]
  },
  {
   "cell_type": "code",
   "execution_count": 80,
   "metadata": {},
   "outputs": [
    {
     "data": {
      "text/plain": [
       "abtem.waves.Waves"
      ]
     },
     "execution_count": 80,
     "metadata": {},
     "output_type": "execute_result"
    }
   ],
   "source": [
    "type(zar_tester)"
   ]
  },
  {
   "cell_type": "code",
   "execution_count": 122,
   "metadata": {},
   "outputs": [
    {
     "name": "stdout",
     "output_type": "stream",
     "text": [
      "[########################################] | 100% Completed | 104.59 ms\n"
     ]
    },
    {
     "data": {
      "text/plain": [
       "<abtem.visualize.visualizations.Visualization at 0x1a9169c50a0>"
      ]
     },
     "execution_count": 122,
     "metadata": {},
     "output_type": "execute_result"
    },
    {
     "data": {
      "image/png": "[encoded data removed]",
      "text/plain": [
       "<Figure size 640x480 with 2 Axes>"
      ]
     },
     "metadata": {},
     "output_type": "display_data"
    }
   ],
   "source": [
    "zar_tester.diffraction_patterns().block_direct().show(units=\"1/Å\", cbar=True)"
   ]
  },
  {
   "cell_type": "code",
   "execution_count": null,
   "metadata": {},
   "outputs": [
    {
     "data": {
      "text/plain": [
       "dict_keys(['Rotation', 'Intensity_real', 'dimensions_real', 'Intensity_difraction', 'Difraction sampling'])"
      ]
     },
     "execution_count": 254,
     "metadata": {},
     "output_type": "execute_result"
    }
   ],
   "source": [
    "image_rot_dict.keys()"
   ]
  },
  {
   "cell_type": "code",
   "execution_count": 45,
   "metadata": {},
   "outputs": [
    {
     "ename": "ValueError",
     "evalue": "setting an array element with a sequence. The requested array has an inhomogeneous shape after 2 dimensions. The detected shape was (5, 21) + inhomogeneous part.",
     "output_type": "error",
     "traceback": [
      "\u001b[1;31m---------------------------------------------------------------------------\u001b[0m",
      "\u001b[1;31mValueError\u001b[0m                                Traceback (most recent call last)",
      "Cell \u001b[1;32mIn[45], line 3\u001b[0m\n\u001b[0;32m      1\u001b[0m arr \u001b[38;5;241m=\u001b[39m np\u001b[38;5;241m.\u001b[39marray(image_rot_dict[\u001b[38;5;124m'\u001b[39m\u001b[38;5;124mIntensity_difraction\u001b[39m\u001b[38;5;124m'\u001b[39m])\n\u001b[1;32m----> 3\u001b[0m arr \u001b[38;5;241m=\u001b[39m np\u001b[38;5;241m.\u001b[39marray([image_rot_dict[\u001b[38;5;124m'\u001b[39m\u001b[38;5;124mRotation\u001b[39m\u001b[38;5;124m'\u001b[39m], image_rot_dict[\u001b[38;5;124m'\u001b[39m\u001b[38;5;124mIntensity_real\u001b[39m\u001b[38;5;124m'\u001b[39m],\n\u001b[0;32m      4\u001b[0m         image_rot_dict[\u001b[38;5;124m'\u001b[39m\u001b[38;5;124mdimensions_real\u001b[39m\u001b[38;5;124m'\u001b[39m], \n\u001b[0;32m      5\u001b[0m         image_rot_dict[\u001b[38;5;124m'\u001b[39m\u001b[38;5;124mIntensity_difraction\u001b[39m\u001b[38;5;124m'\u001b[39m],\n\u001b[0;32m      6\u001b[0m         image_rot_dict[\u001b[38;5;124m'\u001b[39m\u001b[38;5;124mDifraction sampling\u001b[39m\u001b[38;5;124m'\u001b[39m]])\n\u001b[0;32m      8\u001b[0m \u001b[38;5;66;03m# reshaping the array from 3D\u001b[39;00m\n\u001b[0;32m      9\u001b[0m \u001b[38;5;66;03m# matrice to 2D matrice.\u001b[39;00m\n\u001b[0;32m     10\u001b[0m arr_reshaped \u001b[38;5;241m=\u001b[39m arr\u001b[38;5;241m.\u001b[39mreshape(arr\u001b[38;5;241m.\u001b[39mshape[\u001b[38;5;241m0\u001b[39m], \u001b[38;5;241m-\u001b[39m\u001b[38;5;241m1\u001b[39m)\n",
      "\u001b[1;31mValueError\u001b[0m: setting an array element with a sequence. The requested array has an inhomogeneous shape after 2 dimensions. The detected shape was (5, 21) + inhomogeneous part."
     ]
    }
   ],
   "source": [
    "\n",
    "arr = np.array(image_rot_dict['Intensity_difraction'])\n",
    "\n",
    "arr = np.array([image_rot_dict['Rotation'], image_rot_dict['Intensity_real'],\n",
    "        image_rot_dict['dimensions_real'], \n",
    "        image_rot_dict['Intensity_difraction'],\n",
    "        image_rot_dict['Difraction sampling']])\n",
    "\n",
    "# reshaping the array from 3D\n",
    "# matrice to 2D matrice.\n",
    "arr_reshaped = arr.reshape(arr.shape[0], -1)\n",
    "\n",
    "# saving reshaped array to file.\n",
    "np.savetxt(\"difraction.txt\", arr_reshaped)\n",
    "\n",
    "# retrieving data from file.\n",
    "loaded_arr = np.loadtxt(\"difraction.txt\")\n",
    "\n",
    "load_original_arr = loaded_arr.reshape(\n",
    "\tloaded_arr.shape[0], loaded_arr.shape[1] // arr.shape[2], arr.shape[2])\n",
    "\n",
    "# check the shapes:\n",
    "print(\"shape of arr: \", arr.shape)\n",
    "print(\"shape of load_original_arr: \", load_original_arr.shape)\n",
    "\n",
    "# check if both arrays are same or not:\n",
    "if (load_original_arr == arr).all():\n",
    "\tprint(\"Yes, both the arrays are same\")\n",
    "else:\n",
    "\tprint(\"No, both the arrays are not same\")\n"
   ]
  },
  {
   "cell_type": "code",
   "execution_count": null,
   "metadata": {},
   "outputs": [
    {
     "data": {
      "text/plain": [
       "512"
      ]
     },
     "execution_count": 272,
     "metadata": {},
     "output_type": "execute_result"
    }
   ],
   "source": [
    "arr.shape[2]"
   ]
  },
  {
   "cell_type": "code",
   "execution_count": null,
   "metadata": {},
   "outputs": [
    {
     "data": {
      "text/plain": [
       "(21, 512, 512)"
      ]
     },
     "execution_count": 275,
     "metadata": {},
     "output_type": "execute_result"
    }
   ],
   "source": [
    "loaded_arr.shape[0], loaded_arr.shape[1] // arr.shape[2], arr.shape[2]"
   ]
  },
  {
   "cell_type": "code",
   "execution_count": null,
   "metadata": {},
   "outputs": [
    {
     "data": {
      "text/plain": [
       "262144"
      ]
     },
     "execution_count": 276,
     "metadata": {},
     "output_type": "execute_result"
    }
   ],
   "source": [
    "512*512"
   ]
  },
  {
   "cell_type": "code",
   "execution_count": null,
   "metadata": {},
   "outputs": [],
   "source": [
    "def load_exit_waves(filepath):\n",
    "    \n",
    "\n"
   ]
  },
  {
   "cell_type": "code",
   "execution_count": 89,
   "metadata": {},
   "outputs": [
    {
     "data": {
      "text/plain": [
       "dask.array.core.Array"
      ]
     },
     "execution_count": 89,
     "metadata": {},
     "output_type": "execute_result"
    }
   ],
   "source": [
    "type(zar_tester.array)"
   ]
  },
  {
   "cell_type": "code",
   "execution_count": 117,
   "metadata": {},
   "outputs": [
    {
     "data": {
      "text/plain": [
       "(76.297675545, 76.297675545)"
      ]
     },
     "execution_count": 117,
     "metadata": {},
     "output_type": "execute_result"
    }
   ],
   "source": [
    "zar_tester.extent"
   ]
  },
  {
   "cell_type": "code",
   "execution_count": 116,
   "metadata": {},
   "outputs": [
    {
     "data": {
      "text/plain": [
       "(-8.938673362306558, -8.938673362306558)"
      ]
     },
     "execution_count": 116,
     "metadata": {},
     "output_type": "execute_result"
    }
   ],
   "source": [
    "zar_tester.diffraction_patterns().extent"
   ]
  },
  {
   "cell_type": "code",
   "execution_count": null,
   "metadata": {},
   "outputs": [],
   "source": [
    "def save_outcome(folder_path, filename, data, metadata = 'empty'):\n",
    "    arr_reshaped = data.reshape(data.shape[0], -1)\n",
    "    new_folder = folder_path + \"/\"+ filename \n",
    "    if not os.path.exists(new_folder):\n",
    "        os.makedirs(folder_path + \"/\"+ filename)\n",
    "        np.savetxt(folder_path + \"/\"+ filename + \"/intensity.txt\", arr_reshaped)\n",
    "        if metadata != 'empty':\n",
    "            np.savetxt(folder_path + \"/\"+ filename + \"/metadata.txt\", metadata, )\n",
    "    else:\n",
    "        print('Error: Folder already exists')\n",
    "   \n",
    "    \n",
    "    \n",
    "def load_outcome(filepath):\n",
    "    data  = np.loadtxt(filepath + \"/intensity.txt\")\n",
    "    #metadata = np.loadtxt(filepath + \"/metadata.txt\")\n",
    "    return data, metadata"
   ]
  },
  {
   "cell_type": "code",
   "execution_count": 31,
   "metadata": {},
   "outputs": [
    {
     "name": "stdout",
     "output_type": "stream",
     "text": [
      "Error: Folder already exists\n"
     ]
    }
   ],
   "source": [
    "save_outcome('data', 'rot_trans_test', np_set)"
   ]
  },
  {
   "cell_type": "code",
   "execution_count": 32,
   "metadata": {},
   "outputs": [],
   "source": [
    "#loaded_outcome = np.loadtxt('data/rot_trans_testintensity.txt')\n",
    "%matplotlib widget"
   ]
  },
  {
   "cell_type": "code",
   "execution_count": 34,
   "metadata": {},
   "outputs": [
    {
     "data": {
      "application/vnd.jupyter.widget-view+json": {
       "model_id": "970c7f296ccb45a5a6831ab2f1f01334",
       "version_major": 2,
       "version_minor": 0
      },
      "image/png": "[encoded data removed]",
      "text/html": [
       "\n",
       "            <div style=\"display: inline-block;\">\n",
       "                <div class=\"jupyter-widgets widget-label\" style=\"text-align: center;\">\n",
       "                    Figure\n",
       "                </div>\n",
       "                <img src='data:image/png;base64,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' width=640.0/>\n",
       "            </div>\n",
       "        "
      ],
      "text/plain": [
       "Canvas(toolbar=Toolbar(toolitems=[('Home', 'Reset original view', 'home', 'home'), ('Back', 'Back to previous …"
      ]
     },
     "metadata": {},
     "output_type": "display_data"
    }
   ],
   "source": [
    "from matplotlib.widgets import Slider\n",
    "file_path = \"C:/Users/Bruger/Desktop/Python/Moire/moire_visualization/data/rot_trans_test/intensity.txt\"\n",
    "\n",
    "loaded_arr = np.loadtxt(file_path)\n",
    "#x_pixel = int(np.sqrt(loaded_arr.shape[1]))\n",
    "#load_original_arr = loaded_arr.reshape(loaded_arr.shape[0], x_pixel,x_pixel)\n",
    "\n",
    "load_original_arr = loaded_arr.reshape(4,3,3,1024,1024)\n",
    "\n",
    "data = np_set\n",
    "#data = np.random.randint(10, size=(10, 10, 10, 5, 5))\n",
    "# current layer index start with the first layer \n",
    "id_theta = 0\n",
    "idx = 0\n",
    "idy = 0\n",
    "\n",
    "# figure axis setup \n",
    "fig, ax = plt.subplots()\n",
    "fig.subplots_adjust(bottom=0.2)\n",
    "\n",
    "# display initial image \n",
    "im_h = ax.imshow(data[id_theta,idx,idy, :, :], cmap='binary', interpolation='nearest')\n",
    "\n",
    "# setup a slider axis and the Slider\n",
    "diff = 0.05\n",
    "ax_theta = plt.axes([0.23, 0.02, 0.56, 0.04])\n",
    "ax_x = plt.axes([0.23, 0.02+diff, 0.56, 0.04])\n",
    "ax_y = plt.axes([0.23, 0.02+diff*2, 0.56, 0.04])\n",
    "\n",
    "slider_theta = Slider(ax_theta, 'Angle', 0, data.shape[0]-1, valinit=id_theta)\n",
    "slider_x = Slider(ax_x, 'x-axis translation', 0, data.shape[1]-1, valinit=idx)\n",
    "slider_y = Slider(ax_y, 'y-axis translation', 0, data.shape[2]-1, valinit=idy)\n",
    "\n",
    "# update the figure with a change on the slider \n",
    "def update_sliders(val):\n",
    "    id_theta = int(round(slider_theta.val))\n",
    "    idx = int(round(slider_x.val))\n",
    "    idy = int(round(slider_y.val))\n",
    "    im_h.set_data(data[id_theta,idx,idy, :, :])\n",
    "\n",
    "\n",
    "\n",
    "\n",
    "slider_theta.on_changed(update_sliders)\n",
    "slider_x.on_changed(update_sliders)\n",
    "slider_y.on_changed(update_sliders)\n",
    "\n",
    "\n",
    "\n",
    "plt.show()"
   ]
  },
  {
   "cell_type": "code",
   "execution_count": null,
   "metadata": {},
   "outputs": [],
   "source": [
    "\n",
    "arr = np.array(image_rot_dict['Intensity_difraction'])\n",
    "\n",
    "arr = np.array([image_rot_dict['Rotation'], image_rot_dict['Intensity_real'],\n",
    "        image_rot_dict['dimensions_real'], \n",
    "        image_rot_dict['Intensity_difraction'],\n",
    "        image_rot_dict['Difraction sampling']])\n",
    "\n",
    "# reshaping the array from 3D\n",
    "# matrice to 2D matrice.\n",
    "arr_reshaped = arr.reshape(arr.shape[0], -1)\n",
    "\n",
    "# saving reshaped array to file.\n",
    "np.savetxt(\"difraction.txt\", arr_reshaped)\n",
    "\n",
    "# retrieving data from file.\n",
    "loaded_arr = np.loadtxt(\"difraction.txt\")\n",
    "\n",
    "load_original_arr = loaded_arr.reshape(\n",
    "\tloaded_arr.shape[0], loaded_arr.shape[1] // arr.shape[2], arr.shape[2])\n",
    "\n",
    "# check the shapes:\n",
    "print(\"shape of arr: \", arr.shape)\n",
    "print(\"shape of load_original_arr: \", load_original_arr.shape)\n",
    "\n",
    "# check if both arrays are same or not:\n",
    "if (load_original_arr == arr).all():\n",
    "\tprint(\"Yes, both the arrays are same\")\n",
    "else:\n",
    "\tprint(\"No, both the arrays are not same\")"
   ]
  }
 ],
 "metadata": {
  "kernelspec": {
   "display_name": "moire_course",
   "language": "python",
   "name": "python3"
  },
  "language_info": {
   "codemirror_mode": {
    "name": "ipython",
    "version": 3
   },
   "file_extension": ".py",
   "mimetype": "text/x-python",
   "name": "python",
   "nbconvert_exporter": "python",
   "pygments_lexer": "ipython3",
   "version": "3.12.8"
  }
 },
 "nbformat": 4,
 "nbformat_minor": 2
}
