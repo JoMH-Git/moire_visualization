{
 "cells": [
  {
   "cell_type": "code",
   "execution_count": null,
   "metadata": {},
   "outputs": [],
   "source": [
    "from ipynb.fs.full.Abtem_lib import *\n",
    "#import functions"
   ]
  },
  {
   "cell_type": "code",
   "execution_count": 5,
   "metadata": {},
   "outputs": [],
   "source": [
    "#load in structures\n",
    "m4 = load_outcome_file('data/full-relax-n-1-m-4')\n",
    "m5 = load_outcome_file('data/full-relax-n-1-m-5')"
   ]
  },
  {
   "cell_type": "code",
   "execution_count": null,
   "metadata": {},
   "outputs": [],
   "source": [
    "#activate Notebook visual backend to enable interactive visualizations\n",
    "%matplotlib ipympl"
   ]
  },
  {
   "cell_type": "code",
   "execution_count": 13,
   "metadata": {},
   "outputs": [
    {
     "name": "stdout",
     "output_type": "stream",
     "text": [
      "[########################################] | 100% Completed | 105.33 ms\n"
     ]
    },
    {
     "data": {
      "application/vnd.jupyter.widget-view+json": {
       "model_id": "2f24743a9ad3476490176869a485ec15",
       "version_major": 2,
       "version_minor": 0
      },
      "text/plain": [
       "ImageGUI(children=(VBox(children=(SelectionSlider(continuous_update=False, options=('trajectory # 1', 'traject…"
      ]
     },
     "metadata": {},
     "output_type": "display_data"
    },
    {
     "name": "stdout",
     "output_type": "stream",
     "text": [
      "[########################################] | 100% Completed | 108.04 ms\n"
     ]
    },
    {
     "data": {
      "application/vnd.jupyter.widget-view+json": {
       "model_id": "8c5cc86529904ea99c490df298ad643f",
       "version_major": 2,
       "version_minor": 0
      },
      "text/plain": [
       "ImageGUI(children=(VBox(children=(SelectionSlider(continuous_update=False, options=('trajectory # 1', 'traject…"
      ]
     },
     "metadata": {},
     "output_type": "display_data"
    },
    {
     "data": {
      "text/plain": [
       "<abtem.visualize.visualizations.Visualization at 0x1d501315220>"
      ]
     },
     "execution_count": 13,
     "metadata": {},
     "output_type": "execute_result"
    }
   ],
   "source": [
    "#plot outcomes\n",
    "m4.show(interact=True, cbar= True)\n",
    "m4.diffraction_patterns().show(interact = True, cbar = True, power = 0.5)"
   ]
  },
  {
   "cell_type": "code",
   "execution_count": 12,
   "metadata": {},
   "outputs": [
    {
     "name": "stdout",
     "output_type": "stream",
     "text": [
      "[########################################] | 100% Completed | 103.78 ms\n"
     ]
    },
    {
     "data": {
      "application/vnd.jupyter.widget-view+json": {
       "model_id": "08d473ec6701419e830e871d5afde0ff",
       "version_major": 2,
       "version_minor": 0
      },
      "text/plain": [
       "ImageGUI(children=(VBox(children=(SelectionSlider(continuous_update=False, options=('trajectory # 1', 'traject…"
      ]
     },
     "metadata": {},
     "output_type": "display_data"
    },
    {
     "name": "stdout",
     "output_type": "stream",
     "text": [
      "[########################################] | 100% Completed | 213.17 ms\n"
     ]
    },
    {
     "data": {
      "application/vnd.jupyter.widget-view+json": {
       "model_id": "d1bfd9f484514d49b450de250881f130",
       "version_major": 2,
       "version_minor": 0
      },
      "text/plain": [
       "ImageGUI(children=(VBox(children=(SelectionSlider(continuous_update=False, options=('trajectory # 1', 'traject…"
      ]
     },
     "metadata": {},
     "output_type": "display_data"
    },
    {
     "data": {
      "text/plain": [
       "<abtem.visualize.visualizations.Visualization at 0x1d500d26270>"
      ]
     },
     "execution_count": 12,
     "metadata": {},
     "output_type": "execute_result"
    }
   ],
   "source": [
    "#plot outcomes\n",
    "m5.show(interact=True, cbar= True)\n",
    "m5.diffraction_patterns().show(interact = True, cbar = True, power = 0.5)"
   ]
  },
  {
   "cell_type": "code",
   "execution_count": null,
   "metadata": {},
   "outputs": [],
   "source": []
  }
 ],
 "metadata": {
  "kernelspec": {
   "display_name": "moire_course",
   "language": "python",
   "name": "python3"
  },
  "language_info": {
   "codemirror_mode": {
    "name": "ipython",
    "version": 3
   },
   "file_extension": ".py",
   "mimetype": "text/x-python",
   "name": "python",
   "nbconvert_exporter": "python",
   "pygments_lexer": "ipython3",
   "version": "3.12.8"
  }
 },
 "nbformat": 4,
 "nbformat_minor": 2
}
