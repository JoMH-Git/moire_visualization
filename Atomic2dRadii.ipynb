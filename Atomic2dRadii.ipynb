{
 "cells": [
  {
   "cell_type": "code",
   "execution_count": 6,
   "metadata": {},
   "outputs": [],
   "source": [
    "import numpy as np\n",
    "import pandas as pd\n",
    "import matplotlib.pyplot as plt\n",
    "import math\n",
    "import scipy\n",
    "\n",
    "import abtem\n",
    "import ase\n",
    "\n",
    "# from ase.lattice.spacegroup import crystal\n",
    "from ase.spacegroup import crystal\n",
    "from abtem.visualize import show_atoms\n",
    "from ase.io import read\n",
    "from ase.visualize import view\n",
    "from ase import Atoms\n",
    "from abtem.parametrizations import LobatoParametrization\n",
    "import plotly.express as px\n",
    "import itertools\n",
    "\n",
    "from mp_api.client import MPRester"
   ]
  },
  {
   "cell_type": "code",
   "execution_count": 7,
   "metadata": {},
   "outputs": [],
   "source": [
    "def structure_from_MP(material_id , API_key = \"cxnJrpd5pqO3S94GGmwCc3mlqtwYG9Yo\", only_ase_Structure = True, conventional_unit_cell = False):\n",
    "    #connecting to MP database with API key\n",
    "    mpr = MPRester(API_key)\n",
    "    \n",
    "    # Fetch the structure for the material\n",
    "    structure = mpr.get_structure_by_material_id(material_id, conventional_unit_cell = conventional_unit_cell)\n",
    "    \n",
    "    #retriveing the coorniates and species of atoms\n",
    "    coordinates = []\n",
    "    coordinates_frac = []\n",
    "    species = []\n",
    "    species_name = []\n",
    "    structure_abc = np.array(structure.lattice.abc)\n",
    "    structure_angles = np.array(structure.lattice.angles)\n",
    "    alpha, beta, gamma = np.deg2rad(structure_angles[0]), np.deg2rad(structure_angles[1]), np.deg2rad(structure_angles[2])\n",
    "    #calculating the volume:\n",
    "    V = structure_abc[0]*structure_abc[1]*structure_abc[2]*np.sqrt(1-np.cos(alpha)**2-np.cos(beta)**2\n",
    "        -np.cos(gamma)**2+2*np.cos(alpha)*np.cos(beta)*np.cos(gamma))\n",
    "    \n",
    "    #making the matrix to convert vectors from fractional coordinates to cartesian coordinates:\n",
    "    A = np.transpose([[structure_abc[0],\n",
    "          0,\n",
    "          0],\n",
    "           [structure_abc[1]*np.cos(gamma),\n",
    "            structure_abc[1]*np.sin(gamma),\n",
    "            0],\n",
    "           [structure_abc[2]*np.cos(beta),\n",
    "             structure_abc[2]*(np.cos(alpha)-np.cos(beta)*np.cos(gamma))/np.sin(gamma), \n",
    "            V/(structure_abc[0]*structure_abc[1]*np.sin(gamma)) ]\n",
    "         ])\n",
    "    \n",
    "    for s in structure:\n",
    "            coordinates_frac.append(s.frac_coords) #would give fractional coordinates instead\n",
    "            coordinates.append(np.dot(A,np.transpose(s.frac_coords))) #cartesian coordinates calculated from fractional coordinates\n",
    "            species.append(s.specie.Z) #atomic number\n",
    "            species_name.append(s.specie) #would give strings (e.g. \"Fe\") instead of atomic number\n",
    "    \n",
    "    #saving data as dictionary\n",
    "    lattice = {'structure':{'Name' : species_name, 'Atmoic Number' : species , 'Coordniates' : coordinates ,\n",
    "              'Fractional coordinates' : coordinates_frac}, 'vector' : {'distance' : structure_abc, 'angles': structure_angles }}\n",
    "    \n",
    "    #making the unit cell compact form for ase (a,b,c,alpha,beta,gamma)\n",
    "    cell = np.copy(np.append(lattice['vector']['distance'],lattice['vector']['angles']))\n",
    "    ase_structure = Atoms(species, coordinates, cell = cell) #creating the strucutre in ase\n",
    "    if only_ase_Structure:\n",
    "        return ase_structure #returning only ase structure object\n",
    "    else:\n",
    "        return Atoms(species, coordinates, cell = cell), cell #returning ase structure object as well as cell dictionary\n"
   ]
  },
  {
   "cell_type": "code",
   "execution_count": 8,
   "metadata": {},
   "outputs": [],
   "source": [
    "def get_covalent_radii(ase_structre):\n",
    "    atomic_number = ase_structre.get_atomic_numbers() #retriving atomic number of each atom\n",
    "\n",
    "    #list to store covalent radii\n",
    "    covalent_radii = []\n",
    "    for at_num in atomic_number:\n",
    "        covalent_radii.append(ase.data.covalent_radii[at_num])\n",
    "    return covalent_radii"
   ]
  },
  {
   "cell_type": "code",
   "execution_count": 11,
   "metadata": {},
   "outputs": [],
   "source": [
    "def get_atom_2d_positions(ase_structure, round = 3):\n",
    "    return np.round(ase_structure.get_positions()[:,0:2], 3)\n",
    "\n"
   ]
  },
  {
   "cell_type": "code",
   "execution_count": 12,
   "metadata": {},
   "outputs": [],
   "source": [
    "def rotate_points(points, angle_degrees):\n",
    "    \"\"\"\n",
    "    Rotate an array of 2D points around the origin by a given angle.\n",
    "\n",
    "    Parameters:\n",
    "    points (np.ndarray): An array of shape (n, 2) representing n 2D points.\n",
    "    angle_degrees (float): The angle by which to rotate the points, in degrees.\n",
    "\n",
    "    Returns:\n",
    "    np.ndarray: The rotated array of 2D points.\n",
    "    \"\"\"\n",
    "    # Convert the angle from degrees to radians\n",
    "    angle_radians = np.radians(angle_degrees)\n",
    "\n",
    "    # Define the rotation matrix https://en.wikipedia.org/wiki/Rotation_matrix\n",
    "    rotation_matrix = np.array([\n",
    "        [np.cos(angle_radians), -np.sin(angle_radians)],\n",
    "        [np.sin(angle_radians), np.cos(angle_radians)]\n",
    "    ])\n",
    "\n",
    "    # Rotate the points\n",
    "    rotated_points = np.dot(points, rotation_matrix)\n",
    "\n",
    "    return rotated_points"
   ]
  },
  {
   "cell_type": "code",
   "execution_count": 13,
   "metadata": {},
   "outputs": [],
   "source": [
    "def center_ase(ase_structure):\n",
    "    #returns ases structure with center at the center of the grid\n",
    "    coord = ase_structure.cell\n",
    "    ase_structure.translate([-coord[0][0]/2, -coord[1][1]/2, 0])"
   ]
  },
  {
   "cell_type": "code",
   "execution_count": 14,
   "metadata": {},
   "outputs": [],
   "source": [
    "def  generate_plotdata(ase_structure, theta):\n",
    "    \"\"\"\"Function for generation plotable data for Moire pattern recognition\n",
    "    ase_structure = an ase atoms object in the desired dimensions\n",
    "    theta = a list angles to have plot of\"\"\"    \n",
    "\n",
    "    pos = get_atom_2d_positions(ase_structure) #get the 2D coordinates of the atoms object\n",
    "\n",
    "    #Defining lists used to generate dataframe\n",
    "    angles_long = []\n",
    "    radius_long = []\n",
    "    species_long = []\n",
    "    x_long = []\n",
    "    y_long = []\n",
    "    layer_long = []\n",
    "    atom_index_long = []\n",
    "\n",
    "    #define list of constant terms for variation in angle\n",
    "\n",
    "    species = np.array(ase_structure.symbols) #get the symbols of the species\n",
    "    radius = get_covalent_radii(ase_structure) #get the atomic radius of each species\n",
    "    layer_1 = ['fixed layer']*len(pos) #list of layer labels\n",
    "    layer_2 = ['twist layer']*len(pos)\n",
    "    atom_index_1 = np.arange(1,len(pos)+1) #list of atom index (used for plotly identification of what variable should be animated)\n",
    "    atom_index_2 = np.arange(len(pos)+1,len(pos)*2+1)\n",
    "    \n",
    "\n",
    "    for a in theta:\n",
    "        a_s = [a]*len(pos) #making the angle array of the same length as the number of atoms\n",
    "        rot_pos = rotate_points(pos, a) #rotating the atoms\n",
    "        #appending the data to the lists\n",
    "        angles_long.append(a_s)\n",
    "        angles_long.append(a_s)\n",
    "        x_long.append(pos[:,0])\n",
    "        x_long.append(rot_pos[:,0])\n",
    "        y_long.append(pos[:,1])\n",
    "        y_long.append(rot_pos[:,1])\n",
    "        species_long.append(species)\n",
    "        species_long.append(species)\n",
    "        radius_long.append(radius)\n",
    "        radius_long.append(radius)\n",
    "        layer_long.append(layer_1)\n",
    "        layer_long.append(layer_2)\n",
    "        atom_index_long.append(atom_index_1)\n",
    "        atom_index_long.append(atom_index_2)\n",
    "        \n",
    "\n",
    "    angles_long = [item for sublist in angles_long for item in sublist]\n",
    "    x_long = [item for sublist in x_long for item in sublist]\n",
    "    y_long = [item for sublist in y_long for item in sublist]\n",
    "    species_long = [item for sublist in species_long for item in sublist]\n",
    "    radius_long = [item for sublist in radius_long for item in sublist]\n",
    "    layer_long = [item for sublist in layer_long for item in sublist]\n",
    "    atom_index_long = [item for sublist in atom_index_long for item in sublist]\n",
    "\n",
    "\n",
    "    return pd.DataFrame({'angle': angles_long , 'x': x_long, 'y':y_long, \n",
    "                                'species':species_long, 'radius': radius_long, \n",
    "                                'layer': layer_long, 'atom_index': atom_index_long})   \n",
    "     \n",
    "    "
   ]
  },
  {
   "cell_type": "markdown",
   "metadata": {},
   "source": [
    "# Make structure"
   ]
  },
  {
   "cell_type": "code",
   "execution_count": 15,
   "metadata": {},
   "outputs": [
    {
     "data": {
      "application/vnd.jupyter.widget-view+json": {
       "model_id": "faf46ef710e24aaf85fd17f7cf10d17f",
       "version_major": 2,
       "version_minor": 0
      },
      "text/plain": [
       "Retrieving MaterialsDoc documents:   0%|          | 0/1 [00:00<?, ?it/s]"
      ]
     },
     "metadata": {},
     "output_type": "display_data"
    },
    {
     "data": {
      "text/plain": [
       "<Popen: returncode: None args: ['c:\\\\Users\\\\Bruger\\\\anaconda3\\\\envs\\\\moire_c...>"
      ]
     },
     "execution_count": 15,
     "metadata": {},
     "output_type": "execute_result"
    }
   ],
   "source": [
    "material_Id = \"mp-5229\"\n",
    "srtio3 = structure_from_MP(material_Id, conventional_unit_cell = False)\n",
    "atoms = srtio3 * (20,20,1)\n",
    "view(atoms)"
   ]
  },
  {
   "cell_type": "markdown",
   "metadata": {},
   "source": [
    "## Set angular range and resolution:"
   ]
  },
  {
   "cell_type": "code",
   "execution_count": 16,
   "metadata": {},
   "outputs": [],
   "source": [
    "#defining the angular range and resolution\n",
    "theta_max = 90\n",
    "theta_min = 0\n",
    "res=0.5\n",
    "theta = np.arange(theta_min, theta_max+res, res)"
   ]
  },
  {
   "cell_type": "markdown",
   "metadata": {},
   "source": [
    "## Generate plotting data"
   ]
  },
  {
   "cell_type": "code",
   "execution_count": 17,
   "metadata": {},
   "outputs": [],
   "source": [
    "plotting_data = generate_plotdata(atoms, theta)"
   ]
  },
  {
   "cell_type": "markdown",
   "metadata": {},
   "source": [
    "# Plotting the data"
   ]
  },
  {
   "cell_type": "code",
   "execution_count": null,
   "metadata": {},
   "outputs": [],
   "source": [
    "#Standard plot\n",
    "pos = atoms.positions\n",
    "min_x = pos[:,0].min()/2\n",
    "max_x = pos[:,0].max()/2\n",
    "min_y = pos[:,1].min()/2\n",
    "max_y = pos[:,1].max()/2\n",
    "radius_max = plotting_data.radius.max()\n",
    "Picture_size = 800\n",
    "Pixel_fraction = 0.67 #fraction of pixels used for plot\n",
    "size_reduction_factor = 0.5\n",
    "Marker_size = radius_max/(max_x-min_x)*(Picture_size*Pixel_fraction*size_reduction_factor)\n",
    "\n",
    "fig = px.scatter(plotting_data, x=\"x\", y=\"y\", animation_frame=\"angle\", animation_group=\"atom_index\",\n",
    "          size=\"radius\", size_max = Marker_size, color=\"species\", hover_name=\"layer\",\n",
    "           range_x=[min_x, max_x], range_y=[min_y, max_y],\n",
    "           color_discrete_sequence = ['green', 'grey', 'red'],\n",
    "           width=Picture_size, height=Picture_size)\n",
    "fig.update_yaxes(\n",
    "    scaleanchor=\"x\",\n",
    "    scaleratio=1,\n",
    "  )\n",
    "fig[\"layout\"].pop(\"updatemenus\") # optional, drop animation buttons\n",
    "fig.show()"
   ]
  },
  {
   "cell_type": "code",
   "execution_count": null,
   "metadata": {},
   "outputs": [],
   "source": [
    "#Black_wide_plot\n",
    "min_x = pos[:,0].min()/2\n",
    "max_x = pos[:,0].max()/2\n",
    "min_y = pos[:,1].min()/2\n",
    "max_y = pos[:,1].max()/2\n",
    "radius_max = plotting_data.radius.max()\n",
    "Picture_size = 800\n",
    "Pixel_fraction = 0.67 #fraction of pixels used for plot\n",
    "size_reduction_factor = 0.1\n",
    "Marker_size = radius_max/(max_x-min_x)*(Picture_size*Pixel_fraction*size_reduction_factor)\n",
    "\n",
    "fig = px.scatter(plotting_data, x=\"x\", y=\"y\", animation_frame=\"angle\", animation_group=\"atom_index\",\n",
    "          size=\"radius\", size_max = Marker_size, color=\"layer\", hover_name=\"species\",\n",
    "           range_x=[min_x, max_x], range_y=[min_y, max_y],\n",
    "           color_discrete_sequence = ['white'],\n",
    "           width=Picture_size, height=Picture_size)\n",
    "fig.update_yaxes(\n",
    "    scaleanchor=\"x\",\n",
    "    scaleratio=1,\n",
    "    showgrid = False\n",
    "  )\n",
    "fig.update_xaxes(showgrid = False)\n",
    "fig.update_layout(plot_bgcolor='black')\n",
    "fig[\"layout\"].pop(\"updatemenus\") # optional, drop animation buttons\n",
    "fig.show()"
   ]
  }
 ],
 "metadata": {
  "kernelspec": {
   "display_name": "moire_course",
   "language": "python",
   "name": "python3"
  },
  "language_info": {
   "codemirror_mode": {
    "name": "ipython",
    "version": 3
   },
   "file_extension": ".py",
   "mimetype": "text/x-python",
   "name": "python",
   "nbconvert_exporter": "python",
   "pygments_lexer": "ipython3",
   "version": "3.12.8"
  }
 },
 "nbformat": 4,
 "nbformat_minor": 2
}
